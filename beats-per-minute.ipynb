{
 "cells": [
  {
   "cell_type": "code",
   "execution_count": 1,
   "id": "2aa00b9f",
   "metadata": {
    "_cell_guid": "b1076dfc-b9ad-4769-8c92-a6c4dae69d19",
    "_uuid": "8f2839f25d086af736a60e9eeb907d3b93b6e0e5",
    "execution": {
     "iopub.execute_input": "2025-09-16T04:40:48.714413Z",
     "iopub.status.busy": "2025-09-16T04:40:48.713968Z",
     "iopub.status.idle": "2025-09-16T04:40:50.925376Z",
     "shell.execute_reply": "2025-09-16T04:40:50.924126Z"
    },
    "papermill": {
     "duration": 2.219789,
     "end_time": "2025-09-16T04:40:50.927332",
     "exception": false,
     "start_time": "2025-09-16T04:40:48.707543",
     "status": "completed"
    },
    "tags": []
   },
   "outputs": [
    {
     "name": "stdout",
     "output_type": "stream",
     "text": [
      "/kaggle/input/playground-series-s5e9/sample_submission.csv\n",
      "/kaggle/input/playground-series-s5e9/train.csv\n",
      "/kaggle/input/playground-series-s5e9/test.csv\n"
     ]
    }
   ],
   "source": [
    "# This Python 3 environment comes with many helpful analytics libraries installed\n",
    "# It is defined by the kaggle/python Docker image: https://github.com/kaggle/docker-python\n",
    "# For example, here's several helpful packages to load\n",
    "\n",
    "import numpy as np # linear algebra\n",
    "import pandas as pd # data processing, CSV file I/O (e.g. pd.read_csv)\n",
    "\n",
    "# Input data files are available in the read-only \"../input/\" directory\n",
    "# For example, running this (by clicking run or pressing Shift+Enter) will list all files under the input directory\n",
    "\n",
    "import os\n",
    "for dirname, _, filenames in os.walk('/kaggle/input'):\n",
    "    for filename in filenames:\n",
    "        print(os.path.join(dirname, filename))\n",
    "\n",
    "# You can write up to 20GB to the current directory (/kaggle/working/) that gets preserved as output when you create a version using \"Save & Run All\" \n",
    "# You can also write temporary files to /kaggle/temp/, but they won't be saved outside of the current session"
   ]
  },
  {
   "cell_type": "code",
   "execution_count": 2,
   "id": "055dc1e6",
   "metadata": {
    "execution": {
     "iopub.execute_input": "2025-09-16T04:40:50.938109Z",
     "iopub.status.busy": "2025-09-16T04:40:50.937652Z",
     "iopub.status.idle": "2025-09-16T04:40:52.339765Z",
     "shell.execute_reply": "2025-09-16T04:40:52.338712Z"
    },
    "papermill": {
     "duration": 1.409157,
     "end_time": "2025-09-16T04:40:52.341625",
     "exception": false,
     "start_time": "2025-09-16T04:40:50.932468",
     "status": "completed"
    },
    "tags": []
   },
   "outputs": [
    {
     "data": {
      "text/html": [
       "<div>\n",
       "<style scoped>\n",
       "    .dataframe tbody tr th:only-of-type {\n",
       "        vertical-align: middle;\n",
       "    }\n",
       "\n",
       "    .dataframe tbody tr th {\n",
       "        vertical-align: top;\n",
       "    }\n",
       "\n",
       "    .dataframe thead th {\n",
       "        text-align: right;\n",
       "    }\n",
       "</style>\n",
       "<table border=\"1\" class=\"dataframe\">\n",
       "  <thead>\n",
       "    <tr style=\"text-align: right;\">\n",
       "      <th></th>\n",
       "      <th>id</th>\n",
       "      <th>RhythmScore</th>\n",
       "      <th>AudioLoudness</th>\n",
       "      <th>VocalContent</th>\n",
       "      <th>AcousticQuality</th>\n",
       "      <th>InstrumentalScore</th>\n",
       "      <th>LivePerformanceLikelihood</th>\n",
       "      <th>MoodScore</th>\n",
       "      <th>TrackDurationMs</th>\n",
       "      <th>Energy</th>\n",
       "      <th>BeatsPerMinute</th>\n",
       "    </tr>\n",
       "  </thead>\n",
       "  <tbody>\n",
       "    <tr>\n",
       "      <th>0</th>\n",
       "      <td>0</td>\n",
       "      <td>0.603610</td>\n",
       "      <td>-7.636942</td>\n",
       "      <td>0.023500</td>\n",
       "      <td>0.000005</td>\n",
       "      <td>0.000001</td>\n",
       "      <td>0.051385</td>\n",
       "      <td>0.409866</td>\n",
       "      <td>290715.6450</td>\n",
       "      <td>0.826267</td>\n",
       "      <td>147.53020</td>\n",
       "    </tr>\n",
       "    <tr>\n",
       "      <th>1</th>\n",
       "      <td>1</td>\n",
       "      <td>0.639451</td>\n",
       "      <td>-16.267598</td>\n",
       "      <td>0.071520</td>\n",
       "      <td>0.444929</td>\n",
       "      <td>0.349414</td>\n",
       "      <td>0.170522</td>\n",
       "      <td>0.651010</td>\n",
       "      <td>164519.5174</td>\n",
       "      <td>0.145400</td>\n",
       "      <td>136.15963</td>\n",
       "    </tr>\n",
       "    <tr>\n",
       "      <th>2</th>\n",
       "      <td>2</td>\n",
       "      <td>0.514538</td>\n",
       "      <td>-15.953575</td>\n",
       "      <td>0.110715</td>\n",
       "      <td>0.173699</td>\n",
       "      <td>0.453814</td>\n",
       "      <td>0.029576</td>\n",
       "      <td>0.423865</td>\n",
       "      <td>174495.5667</td>\n",
       "      <td>0.624667</td>\n",
       "      <td>55.31989</td>\n",
       "    </tr>\n",
       "    <tr>\n",
       "      <th>3</th>\n",
       "      <td>3</td>\n",
       "      <td>0.734463</td>\n",
       "      <td>-1.357000</td>\n",
       "      <td>0.052965</td>\n",
       "      <td>0.001651</td>\n",
       "      <td>0.159717</td>\n",
       "      <td>0.086366</td>\n",
       "      <td>0.278745</td>\n",
       "      <td>225567.4651</td>\n",
       "      <td>0.487467</td>\n",
       "      <td>147.91212</td>\n",
       "    </tr>\n",
       "    <tr>\n",
       "      <th>4</th>\n",
       "      <td>4</td>\n",
       "      <td>0.532968</td>\n",
       "      <td>-13.056437</td>\n",
       "      <td>0.023500</td>\n",
       "      <td>0.068687</td>\n",
       "      <td>0.000001</td>\n",
       "      <td>0.331345</td>\n",
       "      <td>0.477769</td>\n",
       "      <td>213960.6789</td>\n",
       "      <td>0.947333</td>\n",
       "      <td>89.58511</td>\n",
       "    </tr>\n",
       "    <tr>\n",
       "      <th>5</th>\n",
       "      <td>5</td>\n",
       "      <td>0.594579</td>\n",
       "      <td>-11.715431</td>\n",
       "      <td>0.101701</td>\n",
       "      <td>0.000005</td>\n",
       "      <td>0.259634</td>\n",
       "      <td>0.024300</td>\n",
       "      <td>0.639254</td>\n",
       "      <td>161012.2221</td>\n",
       "      <td>0.938333</td>\n",
       "      <td>151.43602</td>\n",
       "    </tr>\n",
       "    <tr>\n",
       "      <th>6</th>\n",
       "      <td>6</td>\n",
       "      <td>0.714958</td>\n",
       "      <td>-8.809725</td>\n",
       "      <td>0.023500</td>\n",
       "      <td>0.471139</td>\n",
       "      <td>0.000001</td>\n",
       "      <td>0.356775</td>\n",
       "      <td>0.724783</td>\n",
       "      <td>243432.5794</td>\n",
       "      <td>0.336800</td>\n",
       "      <td>151.63439</td>\n",
       "    </tr>\n",
       "    <tr>\n",
       "      <th>7</th>\n",
       "      <td>7</td>\n",
       "      <td>0.703726</td>\n",
       "      <td>-10.482610</td>\n",
       "      <td>0.037751</td>\n",
       "      <td>0.115727</td>\n",
       "      <td>0.000001</td>\n",
       "      <td>0.024300</td>\n",
       "      <td>0.773899</td>\n",
       "      <td>293848.8919</td>\n",
       "      <td>0.722000</td>\n",
       "      <td>123.31545</td>\n",
       "    </tr>\n",
       "    <tr>\n",
       "      <th>8</th>\n",
       "      <td>8</td>\n",
       "      <td>0.455598</td>\n",
       "      <td>-1.357000</td>\n",
       "      <td>0.162537</td>\n",
       "      <td>0.173626</td>\n",
       "      <td>0.000001</td>\n",
       "      <td>0.288465</td>\n",
       "      <td>0.651137</td>\n",
       "      <td>271215.8237</td>\n",
       "      <td>0.947267</td>\n",
       "      <td>133.59806</td>\n",
       "    </tr>\n",
       "    <tr>\n",
       "      <th>9</th>\n",
       "      <td>9</td>\n",
       "      <td>0.431498</td>\n",
       "      <td>-5.935425</td>\n",
       "      <td>0.023500</td>\n",
       "      <td>0.439565</td>\n",
       "      <td>0.184462</td>\n",
       "      <td>0.114921</td>\n",
       "      <td>0.025600</td>\n",
       "      <td>222030.4794</td>\n",
       "      <td>0.950867</td>\n",
       "      <td>117.39790</td>\n",
       "    </tr>\n",
       "  </tbody>\n",
       "</table>\n",
       "</div>"
      ],
      "text/plain": [
       "   id  RhythmScore  AudioLoudness  VocalContent  AcousticQuality  \\\n",
       "0   0     0.603610      -7.636942      0.023500         0.000005   \n",
       "1   1     0.639451     -16.267598      0.071520         0.444929   \n",
       "2   2     0.514538     -15.953575      0.110715         0.173699   \n",
       "3   3     0.734463      -1.357000      0.052965         0.001651   \n",
       "4   4     0.532968     -13.056437      0.023500         0.068687   \n",
       "5   5     0.594579     -11.715431      0.101701         0.000005   \n",
       "6   6     0.714958      -8.809725      0.023500         0.471139   \n",
       "7   7     0.703726     -10.482610      0.037751         0.115727   \n",
       "8   8     0.455598      -1.357000      0.162537         0.173626   \n",
       "9   9     0.431498      -5.935425      0.023500         0.439565   \n",
       "\n",
       "   InstrumentalScore  LivePerformanceLikelihood  MoodScore  TrackDurationMs  \\\n",
       "0           0.000001                   0.051385   0.409866      290715.6450   \n",
       "1           0.349414                   0.170522   0.651010      164519.5174   \n",
       "2           0.453814                   0.029576   0.423865      174495.5667   \n",
       "3           0.159717                   0.086366   0.278745      225567.4651   \n",
       "4           0.000001                   0.331345   0.477769      213960.6789   \n",
       "5           0.259634                   0.024300   0.639254      161012.2221   \n",
       "6           0.000001                   0.356775   0.724783      243432.5794   \n",
       "7           0.000001                   0.024300   0.773899      293848.8919   \n",
       "8           0.000001                   0.288465   0.651137      271215.8237   \n",
       "9           0.184462                   0.114921   0.025600      222030.4794   \n",
       "\n",
       "     Energy  BeatsPerMinute  \n",
       "0  0.826267       147.53020  \n",
       "1  0.145400       136.15963  \n",
       "2  0.624667        55.31989  \n",
       "3  0.487467       147.91212  \n",
       "4  0.947333        89.58511  \n",
       "5  0.938333       151.43602  \n",
       "6  0.336800       151.63439  \n",
       "7  0.722000       123.31545  \n",
       "8  0.947267       133.59806  \n",
       "9  0.950867       117.39790  "
      ]
     },
     "execution_count": 2,
     "metadata": {},
     "output_type": "execute_result"
    }
   ],
   "source": [
    "data = pd.read_csv(\"/kaggle/input/playground-series-s5e9/train.csv\")\n",
    "data.head(10)"
   ]
  },
  {
   "cell_type": "code",
   "execution_count": 3,
   "id": "ee2bc4d1",
   "metadata": {
    "execution": {
     "iopub.execute_input": "2025-09-16T04:40:52.352400Z",
     "iopub.status.busy": "2025-09-16T04:40:52.351999Z",
     "iopub.status.idle": "2025-09-16T04:40:52.707990Z",
     "shell.execute_reply": "2025-09-16T04:40:52.707067Z"
    },
    "papermill": {
     "duration": 0.363296,
     "end_time": "2025-09-16T04:40:52.709807",
     "exception": false,
     "start_time": "2025-09-16T04:40:52.346511",
     "status": "completed"
    },
    "tags": []
   },
   "outputs": [
    {
     "data": {
      "text/html": [
       "<div>\n",
       "<style scoped>\n",
       "    .dataframe tbody tr th:only-of-type {\n",
       "        vertical-align: middle;\n",
       "    }\n",
       "\n",
       "    .dataframe tbody tr th {\n",
       "        vertical-align: top;\n",
       "    }\n",
       "\n",
       "    .dataframe thead th {\n",
       "        text-align: right;\n",
       "    }\n",
       "</style>\n",
       "<table border=\"1\" class=\"dataframe\">\n",
       "  <thead>\n",
       "    <tr style=\"text-align: right;\">\n",
       "      <th></th>\n",
       "      <th>id</th>\n",
       "      <th>RhythmScore</th>\n",
       "      <th>AudioLoudness</th>\n",
       "      <th>VocalContent</th>\n",
       "      <th>AcousticQuality</th>\n",
       "      <th>InstrumentalScore</th>\n",
       "      <th>LivePerformanceLikelihood</th>\n",
       "      <th>MoodScore</th>\n",
       "      <th>TrackDurationMs</th>\n",
       "      <th>Energy</th>\n",
       "      <th>BeatsPerMinute</th>\n",
       "    </tr>\n",
       "  </thead>\n",
       "  <tbody>\n",
       "    <tr>\n",
       "      <th>count</th>\n",
       "      <td>524164.000000</td>\n",
       "      <td>524164.000000</td>\n",
       "      <td>524164.000000</td>\n",
       "      <td>524164.000000</td>\n",
       "      <td>524164.000000</td>\n",
       "      <td>524164.000000</td>\n",
       "      <td>524164.000000</td>\n",
       "      <td>524164.000000</td>\n",
       "      <td>524164.000000</td>\n",
       "      <td>524164.000000</td>\n",
       "      <td>524164.000000</td>\n",
       "    </tr>\n",
       "    <tr>\n",
       "      <th>mean</th>\n",
       "      <td>262081.500000</td>\n",
       "      <td>0.632843</td>\n",
       "      <td>-8.379014</td>\n",
       "      <td>0.074443</td>\n",
       "      <td>0.262913</td>\n",
       "      <td>0.117690</td>\n",
       "      <td>0.178398</td>\n",
       "      <td>0.555843</td>\n",
       "      <td>241903.692949</td>\n",
       "      <td>0.500923</td>\n",
       "      <td>119.034899</td>\n",
       "    </tr>\n",
       "    <tr>\n",
       "      <th>std</th>\n",
       "      <td>151313.257586</td>\n",
       "      <td>0.156899</td>\n",
       "      <td>4.616221</td>\n",
       "      <td>0.049939</td>\n",
       "      <td>0.223120</td>\n",
       "      <td>0.131845</td>\n",
       "      <td>0.118186</td>\n",
       "      <td>0.225480</td>\n",
       "      <td>59326.601501</td>\n",
       "      <td>0.289952</td>\n",
       "      <td>26.468077</td>\n",
       "    </tr>\n",
       "    <tr>\n",
       "      <th>min</th>\n",
       "      <td>0.000000</td>\n",
       "      <td>0.076900</td>\n",
       "      <td>-27.509725</td>\n",
       "      <td>0.023500</td>\n",
       "      <td>0.000005</td>\n",
       "      <td>0.000001</td>\n",
       "      <td>0.024300</td>\n",
       "      <td>0.025600</td>\n",
       "      <td>63973.000000</td>\n",
       "      <td>0.000067</td>\n",
       "      <td>46.718000</td>\n",
       "    </tr>\n",
       "    <tr>\n",
       "      <th>25%</th>\n",
       "      <td>131040.750000</td>\n",
       "      <td>0.515850</td>\n",
       "      <td>-11.551933</td>\n",
       "      <td>0.023500</td>\n",
       "      <td>0.069413</td>\n",
       "      <td>0.000001</td>\n",
       "      <td>0.077637</td>\n",
       "      <td>0.403921</td>\n",
       "      <td>207099.876625</td>\n",
       "      <td>0.254933</td>\n",
       "      <td>101.070410</td>\n",
       "    </tr>\n",
       "    <tr>\n",
       "      <th>50%</th>\n",
       "      <td>262081.500000</td>\n",
       "      <td>0.634686</td>\n",
       "      <td>-8.252499</td>\n",
       "      <td>0.066425</td>\n",
       "      <td>0.242502</td>\n",
       "      <td>0.074247</td>\n",
       "      <td>0.166327</td>\n",
       "      <td>0.564817</td>\n",
       "      <td>243684.058150</td>\n",
       "      <td>0.511800</td>\n",
       "      <td>118.747660</td>\n",
       "    </tr>\n",
       "    <tr>\n",
       "      <th>75%</th>\n",
       "      <td>393122.250000</td>\n",
       "      <td>0.739179</td>\n",
       "      <td>-4.912298</td>\n",
       "      <td>0.107343</td>\n",
       "      <td>0.396957</td>\n",
       "      <td>0.204065</td>\n",
       "      <td>0.268946</td>\n",
       "      <td>0.716633</td>\n",
       "      <td>281851.658500</td>\n",
       "      <td>0.746000</td>\n",
       "      <td>136.686590</td>\n",
       "    </tr>\n",
       "    <tr>\n",
       "      <th>max</th>\n",
       "      <td>524163.000000</td>\n",
       "      <td>0.975000</td>\n",
       "      <td>-1.357000</td>\n",
       "      <td>0.256401</td>\n",
       "      <td>0.995000</td>\n",
       "      <td>0.869258</td>\n",
       "      <td>0.599924</td>\n",
       "      <td>0.978000</td>\n",
       "      <td>464723.228100</td>\n",
       "      <td>1.000000</td>\n",
       "      <td>206.037000</td>\n",
       "    </tr>\n",
       "  </tbody>\n",
       "</table>\n",
       "</div>"
      ],
      "text/plain": [
       "                  id    RhythmScore  AudioLoudness   VocalContent  \\\n",
       "count  524164.000000  524164.000000  524164.000000  524164.000000   \n",
       "mean   262081.500000       0.632843      -8.379014       0.074443   \n",
       "std    151313.257586       0.156899       4.616221       0.049939   \n",
       "min         0.000000       0.076900     -27.509725       0.023500   \n",
       "25%    131040.750000       0.515850     -11.551933       0.023500   \n",
       "50%    262081.500000       0.634686      -8.252499       0.066425   \n",
       "75%    393122.250000       0.739179      -4.912298       0.107343   \n",
       "max    524163.000000       0.975000      -1.357000       0.256401   \n",
       "\n",
       "       AcousticQuality  InstrumentalScore  LivePerformanceLikelihood  \\\n",
       "count    524164.000000      524164.000000              524164.000000   \n",
       "mean          0.262913           0.117690                   0.178398   \n",
       "std           0.223120           0.131845                   0.118186   \n",
       "min           0.000005           0.000001                   0.024300   \n",
       "25%           0.069413           0.000001                   0.077637   \n",
       "50%           0.242502           0.074247                   0.166327   \n",
       "75%           0.396957           0.204065                   0.268946   \n",
       "max           0.995000           0.869258                   0.599924   \n",
       "\n",
       "           MoodScore  TrackDurationMs         Energy  BeatsPerMinute  \n",
       "count  524164.000000    524164.000000  524164.000000   524164.000000  \n",
       "mean        0.555843    241903.692949       0.500923      119.034899  \n",
       "std         0.225480     59326.601501       0.289952       26.468077  \n",
       "min         0.025600     63973.000000       0.000067       46.718000  \n",
       "25%         0.403921    207099.876625       0.254933      101.070410  \n",
       "50%         0.564817    243684.058150       0.511800      118.747660  \n",
       "75%         0.716633    281851.658500       0.746000      136.686590  \n",
       "max         0.978000    464723.228100       1.000000      206.037000  "
      ]
     },
     "execution_count": 3,
     "metadata": {},
     "output_type": "execute_result"
    }
   ],
   "source": [
    "data.describe()"
   ]
  },
  {
   "cell_type": "code",
   "execution_count": 4,
   "id": "d57a122e",
   "metadata": {
    "execution": {
     "iopub.execute_input": "2025-09-16T04:40:52.721003Z",
     "iopub.status.busy": "2025-09-16T04:40:52.720672Z",
     "iopub.status.idle": "2025-09-16T04:40:52.726957Z",
     "shell.execute_reply": "2025-09-16T04:40:52.725771Z"
    },
    "papermill": {
     "duration": 0.013964,
     "end_time": "2025-09-16T04:40:52.728821",
     "exception": false,
     "start_time": "2025-09-16T04:40:52.714857",
     "status": "completed"
    },
    "tags": []
   },
   "outputs": [],
   "source": [
    "output = pd.DataFrame(columns = [\"id\", \"BeatsPerMinute\"])"
   ]
  },
  {
   "cell_type": "code",
   "execution_count": 5,
   "id": "f6815579",
   "metadata": {
    "execution": {
     "iopub.execute_input": "2025-09-16T04:40:52.740394Z",
     "iopub.status.busy": "2025-09-16T04:40:52.740052Z",
     "iopub.status.idle": "2025-09-16T04:41:13.185730Z",
     "shell.execute_reply": "2025-09-16T04:41:13.184345Z"
    },
    "papermill": {
     "duration": 20.453683,
     "end_time": "2025-09-16T04:41:13.187615",
     "exception": false,
     "start_time": "2025-09-16T04:40:52.733932",
     "status": "completed"
    },
    "tags": []
   },
   "outputs": [
    {
     "name": "stderr",
     "output_type": "stream",
     "text": [
      "2025-09-16 04:40:54.783135: E external/local_xla/xla/stream_executor/cuda/cuda_fft.cc:477] Unable to register cuFFT factory: Attempting to register factory for plugin cuFFT when one has already been registered\n",
      "WARNING: All log messages before absl::InitializeLog() is called are written to STDERR\n",
      "E0000 00:00:1757997655.028275      13 cuda_dnn.cc:8310] Unable to register cuDNN factory: Attempting to register factory for plugin cuDNN when one has already been registered\n",
      "E0000 00:00:1757997655.106628      13 cuda_blas.cc:1418] Unable to register cuBLAS factory: Attempting to register factory for plugin cuBLAS when one has already been registered\n"
     ]
    }
   ],
   "source": [
    "from tensorflow.keras import layers\n",
    "from tensorflow import keras"
   ]
  },
  {
   "cell_type": "code",
   "execution_count": 6,
   "id": "71f530d9",
   "metadata": {
    "execution": {
     "iopub.execute_input": "2025-09-16T04:41:13.199052Z",
     "iopub.status.busy": "2025-09-16T04:41:13.198517Z",
     "iopub.status.idle": "2025-09-16T04:41:13.229089Z",
     "shell.execute_reply": "2025-09-16T04:41:13.227780Z"
    },
    "papermill": {
     "duration": 0.03878,
     "end_time": "2025-09-16T04:41:13.231501",
     "exception": false,
     "start_time": "2025-09-16T04:41:13.192721",
     "status": "completed"
    },
    "tags": []
   },
   "outputs": [
    {
     "data": {
      "text/plain": [
       "(524164, 11)"
      ]
     },
     "execution_count": 6,
     "metadata": {},
     "output_type": "execute_result"
    }
   ],
   "source": [
    "X = data.drop(columns = ['id', 'BeatsPerMinute'])\n",
    "Y = data['BeatsPerMinute']\n",
    "data.shape"
   ]
  },
  {
   "cell_type": "code",
   "execution_count": 7,
   "id": "6b60f832",
   "metadata": {
    "execution": {
     "iopub.execute_input": "2025-09-16T04:41:13.243753Z",
     "iopub.status.busy": "2025-09-16T04:41:13.243446Z",
     "iopub.status.idle": "2025-09-16T04:41:13.375021Z",
     "shell.execute_reply": "2025-09-16T04:41:13.373935Z"
    },
    "papermill": {
     "duration": 0.139514,
     "end_time": "2025-09-16T04:41:13.376966",
     "exception": false,
     "start_time": "2025-09-16T04:41:13.237452",
     "status": "completed"
    },
    "tags": []
   },
   "outputs": [
    {
     "name": "stderr",
     "output_type": "stream",
     "text": [
      "/usr/local/lib/python3.11/dist-packages/keras/src/layers/core/dense.py:87: UserWarning: Do not pass an `input_shape`/`input_dim` argument to a layer. When using Sequential models, prefer using an `Input(shape)` object as the first layer in the model instead.\n",
      "  super().__init__(activity_regularizer=activity_regularizer, **kwargs)\n",
      "2025-09-16 04:41:13.255634: E external/local_xla/xla/stream_executor/cuda/cuda_driver.cc:152] failed call to cuInit: INTERNAL: CUDA error: Failed call to cuInit: UNKNOWN ERROR (303)\n"
     ]
    }
   ],
   "source": [
    "model = keras.Sequential([\n",
    "    layers.Dense(256, activation='relu', input_shape=(X.shape[1],)),\n",
    "    layers.BatchNormalization(),\n",
    "    layers.Dropout(0.3),\n",
    "    layers.Dense(256, activation='relu'),\n",
    "    layers.BatchNormalization(),\n",
    "    layers.Dropout(0.3),\n",
    "    layers.Dense(1, activation = 'linear')\n",
    "])"
   ]
  },
  {
   "cell_type": "code",
   "execution_count": 8,
   "id": "09ee7f98",
   "metadata": {
    "execution": {
     "iopub.execute_input": "2025-09-16T04:41:13.388414Z",
     "iopub.status.busy": "2025-09-16T04:41:13.387937Z",
     "iopub.status.idle": "2025-09-16T04:41:13.406283Z",
     "shell.execute_reply": "2025-09-16T04:41:13.404991Z"
    },
    "papermill": {
     "duration": 0.026711,
     "end_time": "2025-09-16T04:41:13.408780",
     "exception": false,
     "start_time": "2025-09-16T04:41:13.382069",
     "status": "completed"
    },
    "tags": []
   },
   "outputs": [],
   "source": [
    "model.compile(\n",
    "    optimizer = 'adam',\n",
    "    loss = 'mean_squared_error',\n",
    "    metrics = ['mae']\n",
    ")"
   ]
  },
  {
   "cell_type": "code",
   "execution_count": 9,
   "id": "87fd4413",
   "metadata": {
    "execution": {
     "iopub.execute_input": "2025-09-16T04:41:13.421441Z",
     "iopub.status.busy": "2025-09-16T04:41:13.420929Z",
     "iopub.status.idle": "2025-09-16T04:41:13.429169Z",
     "shell.execute_reply": "2025-09-16T04:41:13.427853Z"
    },
    "papermill": {
     "duration": 0.01614,
     "end_time": "2025-09-16T04:41:13.431124",
     "exception": false,
     "start_time": "2025-09-16T04:41:13.414984",
     "status": "completed"
    },
    "tags": []
   },
   "outputs": [],
   "source": [
    "from tensorflow.keras.callbacks import EarlyStopping\n",
    "early_stopping = EarlyStopping(\n",
    "    monitor = 'val_loss',\n",
    "    patience = 10,\n",
    "    restore_best_weights = True,\n",
    ")"
   ]
  },
  {
   "cell_type": "code",
   "execution_count": 10,
   "id": "f312dc57",
   "metadata": {
    "execution": {
     "iopub.execute_input": "2025-09-16T04:41:13.442715Z",
     "iopub.status.busy": "2025-09-16T04:41:13.442360Z",
     "iopub.status.idle": "2025-09-16T04:41:13.708866Z",
     "shell.execute_reply": "2025-09-16T04:41:13.707805Z"
    },
    "papermill": {
     "duration": 0.274433,
     "end_time": "2025-09-16T04:41:13.710808",
     "exception": false,
     "start_time": "2025-09-16T04:41:13.436375",
     "status": "completed"
    },
    "tags": []
   },
   "outputs": [],
   "source": [
    "from sklearn.model_selection import train_test_split\n",
    "X_train, X_test, y_train, y_test = train_test_split(\n",
    "    X, Y, test_size=0.2, random_state=42\n",
    ")"
   ]
  },
  {
   "cell_type": "code",
   "execution_count": 11,
   "id": "4270a189",
   "metadata": {
    "execution": {
     "iopub.execute_input": "2025-09-16T04:41:13.722300Z",
     "iopub.status.busy": "2025-09-16T04:41:13.721936Z",
     "iopub.status.idle": "2025-09-16T04:46:47.990747Z",
     "shell.execute_reply": "2025-09-16T04:46:47.989728Z"
    },
    "papermill": {
     "duration": 334.276709,
     "end_time": "2025-09-16T04:46:47.992630",
     "exception": false,
     "start_time": "2025-09-16T04:41:13.715921",
     "status": "completed"
    },
    "tags": []
   },
   "outputs": [
    {
     "name": "stdout",
     "output_type": "stream",
     "text": [
      "Epoch 1/5\n",
      "\u001b[1m13105/13105\u001b[0m \u001b[32m━━━━━━━━━━━━━━━━━━━━\u001b[0m\u001b[37m\u001b[0m \u001b[1m65s\u001b[0m 5ms/step - loss: 2308.8364 - mae: 33.8941 - val_loss: 703.3703 - val_mae: 21.2489\n",
      "Epoch 2/5\n",
      "\u001b[1m13105/13105\u001b[0m \u001b[32m━━━━━━━━━━━━━━━━━━━━\u001b[0m\u001b[37m\u001b[0m \u001b[1m64s\u001b[0m 5ms/step - loss: 733.5536 - mae: 21.6806 - val_loss: 700.8192 - val_mae: 21.2012\n",
      "Epoch 3/5\n",
      "\u001b[1m13105/13105\u001b[0m \u001b[32m━━━━━━━━━━━━━━━━━━━━\u001b[0m\u001b[37m\u001b[0m \u001b[1m70s\u001b[0m 5ms/step - loss: 724.8834 - mae: 21.5564 - val_loss: 699.8874 - val_mae: 21.1915\n",
      "Epoch 4/5\n",
      "\u001b[1m13105/13105\u001b[0m \u001b[32m━━━━━━━━━━━━━━━━━━━━\u001b[0m\u001b[37m\u001b[0m \u001b[1m69s\u001b[0m 5ms/step - loss: 726.5192 - mae: 21.5775 - val_loss: 701.8829 - val_mae: 21.2235\n",
      "Epoch 5/5\n",
      "\u001b[1m13105/13105\u001b[0m \u001b[32m━━━━━━━━━━━━━━━━━━━━\u001b[0m\u001b[37m\u001b[0m \u001b[1m66s\u001b[0m 5ms/step - loss: 724.4639 - mae: 21.5463 - val_loss: 700.2852 - val_mae: 21.1945\n"
     ]
    },
    {
     "data": {
      "text/plain": [
       "<keras.src.callbacks.history.History at 0x7b9a433bbed0>"
      ]
     },
     "execution_count": 11,
     "metadata": {},
     "output_type": "execute_result"
    }
   ],
   "source": [
    "model.fit(\n",
    "    X_train, y_train,\n",
    "    validation_data = (X_test, y_test),\n",
    "    epochs = 5,\n",
    "    callbacks = [early_stopping],\n",
    "    verbose =1\n",
    ")"
   ]
  },
  {
   "cell_type": "code",
   "execution_count": 12,
   "id": "de7d7f8b",
   "metadata": {
    "execution": {
     "iopub.execute_input": "2025-09-16T04:46:48.743884Z",
     "iopub.status.busy": "2025-09-16T04:46:48.743484Z",
     "iopub.status.idle": "2025-09-16T04:46:49.156565Z",
     "shell.execute_reply": "2025-09-16T04:46:49.155529Z"
    },
    "papermill": {
     "duration": 0.75796,
     "end_time": "2025-09-16T04:46:49.158407",
     "exception": false,
     "start_time": "2025-09-16T04:46:48.400447",
     "status": "completed"
    },
    "tags": []
   },
   "outputs": [],
   "source": [
    "test_data = pd.read_csv('/kaggle/input/playground-series-s5e9/test.csv')"
   ]
  },
  {
   "cell_type": "code",
   "execution_count": 13,
   "id": "7499afe6",
   "metadata": {
    "execution": {
     "iopub.execute_input": "2025-09-16T04:46:49.820699Z",
     "iopub.status.busy": "2025-09-16T04:46:49.820366Z",
     "iopub.status.idle": "2025-09-16T04:46:49.829264Z",
     "shell.execute_reply": "2025-09-16T04:46:49.828132Z"
    },
    "papermill": {
     "duration": 0.344294,
     "end_time": "2025-09-16T04:46:49.831117",
     "exception": false,
     "start_time": "2025-09-16T04:46:49.486823",
     "status": "completed"
    },
    "tags": []
   },
   "outputs": [],
   "source": [
    "test_data_new = test_data.drop(columns = ['id'])"
   ]
  },
  {
   "cell_type": "code",
   "execution_count": 14,
   "id": "c01417a3",
   "metadata": {
    "execution": {
     "iopub.execute_input": "2025-09-16T04:46:50.560093Z",
     "iopub.status.busy": "2025-09-16T04:46:50.559596Z",
     "iopub.status.idle": "2025-09-16T04:46:50.572787Z",
     "shell.execute_reply": "2025-09-16T04:46:50.571333Z"
    },
    "papermill": {
     "duration": 0.413447,
     "end_time": "2025-09-16T04:46:50.575175",
     "exception": false,
     "start_time": "2025-09-16T04:46:50.161728",
     "status": "completed"
    },
    "tags": []
   },
   "outputs": [],
   "source": [
    "output['id'] = test_data['id']\n",
    "output['BeatsPerMinute'] = 0"
   ]
  },
  {
   "cell_type": "code",
   "execution_count": 15,
   "id": "a49b0053",
   "metadata": {
    "execution": {
     "iopub.execute_input": "2025-09-16T04:46:51.231079Z",
     "iopub.status.busy": "2025-09-16T04:46:51.230629Z",
     "iopub.status.idle": "2025-09-16T04:47:04.205644Z",
     "shell.execute_reply": "2025-09-16T04:47:04.204334Z"
    },
    "papermill": {
     "duration": 13.302075,
     "end_time": "2025-09-16T04:47:04.207655",
     "exception": false,
     "start_time": "2025-09-16T04:46:50.905580",
     "status": "completed"
    },
    "tags": []
   },
   "outputs": [
    {
     "name": "stdout",
     "output_type": "stream",
     "text": [
      "\u001b[1m5461/5461\u001b[0m \u001b[32m━━━━━━━━━━━━━━━━━━━━\u001b[0m\u001b[37m\u001b[0m \u001b[1m10s\u001b[0m 2ms/step\n"
     ]
    },
    {
     "data": {
      "text/plain": [
       "array([[120.07297 ],\n",
       "       [118.4323  ],\n",
       "       [120.79655 ],\n",
       "       [119.66139 ],\n",
       "       [119.73984 ],\n",
       "       [120.239395],\n",
       "       [118.28705 ],\n",
       "       [117.59436 ],\n",
       "       [119.37173 ],\n",
       "       [117.368576]], dtype=float32)"
      ]
     },
     "execution_count": 15,
     "metadata": {},
     "output_type": "execute_result"
    }
   ],
   "source": [
    "pred = model.predict(test_data_new)\n",
    "pred[:10]"
   ]
  },
  {
   "cell_type": "code",
   "execution_count": 16,
   "id": "fe045300",
   "metadata": {
    "execution": {
     "iopub.execute_input": "2025-09-16T04:47:04.896672Z",
     "iopub.status.busy": "2025-09-16T04:47:04.896311Z",
     "iopub.status.idle": "2025-09-16T04:47:04.903038Z",
     "shell.execute_reply": "2025-09-16T04:47:04.901693Z"
    },
    "papermill": {
     "duration": 0.35109,
     "end_time": "2025-09-16T04:47:04.905374",
     "exception": false,
     "start_time": "2025-09-16T04:47:04.554284",
     "status": "completed"
    },
    "tags": []
   },
   "outputs": [],
   "source": [
    "output['BeatsPerMinute'] = pred"
   ]
  },
  {
   "cell_type": "code",
   "execution_count": 17,
   "id": "0b8d99d4",
   "metadata": {
    "execution": {
     "iopub.execute_input": "2025-09-16T04:47:05.642475Z",
     "iopub.status.busy": "2025-09-16T04:47:05.641986Z",
     "iopub.status.idle": "2025-09-16T04:47:05.932816Z",
     "shell.execute_reply": "2025-09-16T04:47:05.931705Z"
    },
    "papermill": {
     "duration": 0.630663,
     "end_time": "2025-09-16T04:47:05.935670",
     "exception": false,
     "start_time": "2025-09-16T04:47:05.305007",
     "status": "completed"
    },
    "tags": []
   },
   "outputs": [],
   "source": [
    "output.to_csv(\"/kaggle/working/submission.csv\", index = False)"
   ]
  },
  {
   "cell_type": "code",
   "execution_count": 18,
   "id": "07d1d941",
   "metadata": {
    "execution": {
     "iopub.execute_input": "2025-09-16T04:47:06.656972Z",
     "iopub.status.busy": "2025-09-16T04:47:06.656580Z",
     "iopub.status.idle": "2025-09-16T04:47:06.661864Z",
     "shell.execute_reply": "2025-09-16T04:47:06.660540Z"
    },
    "papermill": {
     "duration": 0.346997,
     "end_time": "2025-09-16T04:47:06.663626",
     "exception": false,
     "start_time": "2025-09-16T04:47:06.316629",
     "status": "completed"
    },
    "tags": []
   },
   "outputs": [],
   "source": [
    "# import shutil\n",
    "# import os\n",
    "# # Define source and destination\n",
    "# src = \"/kaggle/working/submission.csv\"\n",
    "# dst = \"/kaggle/working/output_submission.csv\"\n",
    "# # Check if submission file exists\n",
    "# if os.path.exists(src):\n",
    "#    shutil.copy(src, dst)\n",
    "#    print(f\"✅ Submission file saved as: {dst}\")\n",
    "# else:\n",
    "#    print(\"⚠️ submission.csv not found. Make sure it is generated before this cell runs.\")"
   ]
  },
  {
   "cell_type": "code",
   "execution_count": null,
   "id": "ce65d3c7",
   "metadata": {
    "papermill": {
     "duration": 0.393853,
     "end_time": "2025-09-16T04:47:07.388895",
     "exception": false,
     "start_time": "2025-09-16T04:47:06.995042",
     "status": "completed"
    },
    "tags": []
   },
   "outputs": [],
   "source": []
  }
 ],
 "metadata": {
  "kaggle": {
   "accelerator": "none",
   "dataSources": [
    {
     "databundleVersionId": 13345277,
     "sourceId": 91720,
     "sourceType": "competition"
    }
   ],
   "dockerImageVersionId": 31090,
   "isGpuEnabled": false,
   "isInternetEnabled": true,
   "language": "python",
   "sourceType": "notebook"
  },
  "kernelspec": {
   "display_name": "Python 3",
   "language": "python",
   "name": "python3"
  },
  "language_info": {
   "codemirror_mode": {
    "name": "ipython",
    "version": 3
   },
   "file_extension": ".py",
   "mimetype": "text/x-python",
   "name": "python",
   "nbconvert_exporter": "python",
   "pygments_lexer": "ipython3",
   "version": "3.11.13"
  },
  "papermill": {
   "default_parameters": {},
   "duration": 388.244087,
   "end_time": "2025-09-16T04:47:10.601948",
   "environment_variables": {},
   "exception": null,
   "input_path": "__notebook__.ipynb",
   "output_path": "__notebook__.ipynb",
   "parameters": {},
   "start_time": "2025-09-16T04:40:42.357861",
   "version": "2.6.0"
  }
 },
 "nbformat": 4,
 "nbformat_minor": 5
}
