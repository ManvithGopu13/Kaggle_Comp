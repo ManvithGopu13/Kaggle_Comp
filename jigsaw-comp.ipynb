{
 "cells": [
  {
   "cell_type": "code",
   "execution_count": 1,
   "id": "debd0f50",
   "metadata": {
    "_cell_guid": "b1076dfc-b9ad-4769-8c92-a6c4dae69d19",
    "_uuid": "8f2839f25d086af736a60e9eeb907d3b93b6e0e5",
    "execution": {
     "iopub.execute_input": "2025-09-18T03:33:51.521257Z",
     "iopub.status.busy": "2025-09-18T03:33:51.520667Z",
     "iopub.status.idle": "2025-09-18T03:33:53.630485Z",
     "shell.execute_reply": "2025-09-18T03:33:53.629233Z"
    },
    "papermill": {
     "duration": 2.117961,
     "end_time": "2025-09-18T03:33:53.632431",
     "exception": false,
     "start_time": "2025-09-18T03:33:51.514470",
     "status": "completed"
    },
    "tags": []
   },
   "outputs": [
    {
     "name": "stdout",
     "output_type": "stream",
     "text": [
      "/kaggle/input/jigsaw-agile-community-rules/sample_submission.csv\n",
      "/kaggle/input/jigsaw-agile-community-rules/train.csv\n",
      "/kaggle/input/jigsaw-agile-community-rules/test.csv\n"
     ]
    }
   ],
   "source": [
    "# This Python 3 environment comes with many helpful analytics libraries installed\n",
    "# It is defined by the kaggle/python Docker image: https://github.com/kaggle/docker-python\n",
    "# For example, here's several helpful packages to load\n",
    "\n",
    "import numpy as np # linear algebra\n",
    "import pandas as pd # data processing, CSV file I/O (e.g. pd.read_csv)\n",
    "\n",
    "# Input data files are available in the read-only \"../input/\" directory\n",
    "# For example, running this (by clicking run or pressing Shift+Enter) will list all files under the input directory\n",
    "\n",
    "import os\n",
    "for dirname, _, filenames in os.walk('/kaggle/input'):\n",
    "    for filename in filenames:\n",
    "        print(os.path.join(dirname, filename))\n",
    "\n",
    "# You can write up to 20GB to the current directory (/kaggle/working/) that gets preserved as output when you create a version using \"Save & Run All\" \n",
    "# You can also write temporary files to /kaggle/temp/, but they won't be saved outside of the current session"
   ]
  },
  {
   "cell_type": "code",
   "execution_count": 2,
   "id": "52464d5c",
   "metadata": {
    "execution": {
     "iopub.execute_input": "2025-09-18T03:33:53.643797Z",
     "iopub.status.busy": "2025-09-18T03:33:53.642798Z",
     "iopub.status.idle": "2025-09-18T03:33:53.744412Z",
     "shell.execute_reply": "2025-09-18T03:33:53.743219Z"
    },
    "papermill": {
     "duration": 0.108782,
     "end_time": "2025-09-18T03:33:53.746248",
     "exception": false,
     "start_time": "2025-09-18T03:33:53.637466",
     "status": "completed"
    },
    "tags": []
   },
   "outputs": [],
   "source": [
    "train_data = pd.read_csv(\"/kaggle/input/jigsaw-agile-community-rules/train.csv\")\n",
    "test_data = pd.read_csv(\"/kaggle/input/jigsaw-agile-community-rules/test.csv\")"
   ]
  },
  {
   "cell_type": "code",
   "execution_count": 3,
   "id": "0634781b",
   "metadata": {
    "execution": {
     "iopub.execute_input": "2025-09-18T03:33:53.757588Z",
     "iopub.status.busy": "2025-09-18T03:33:53.756361Z",
     "iopub.status.idle": "2025-09-18T03:33:53.784004Z",
     "shell.execute_reply": "2025-09-18T03:33:53.782973Z"
    },
    "papermill": {
     "duration": 0.034686,
     "end_time": "2025-09-18T03:33:53.785650",
     "exception": false,
     "start_time": "2025-09-18T03:33:53.750964",
     "status": "completed"
    },
    "tags": []
   },
   "outputs": [
    {
     "data": {
      "text/html": [
       "<div>\n",
       "<style scoped>\n",
       "    .dataframe tbody tr th:only-of-type {\n",
       "        vertical-align: middle;\n",
       "    }\n",
       "\n",
       "    .dataframe tbody tr th {\n",
       "        vertical-align: top;\n",
       "    }\n",
       "\n",
       "    .dataframe thead th {\n",
       "        text-align: right;\n",
       "    }\n",
       "</style>\n",
       "<table border=\"1\" class=\"dataframe\">\n",
       "  <thead>\n",
       "    <tr style=\"text-align: right;\">\n",
       "      <th></th>\n",
       "      <th>row_id</th>\n",
       "      <th>body</th>\n",
       "      <th>rule</th>\n",
       "      <th>subreddit</th>\n",
       "      <th>positive_example_1</th>\n",
       "      <th>positive_example_2</th>\n",
       "      <th>negative_example_1</th>\n",
       "      <th>negative_example_2</th>\n",
       "      <th>rule_violation</th>\n",
       "    </tr>\n",
       "  </thead>\n",
       "  <tbody>\n",
       "    <tr>\n",
       "      <th>0</th>\n",
       "      <td>0</td>\n",
       "      <td>Banks don't want you to know this! Click here ...</td>\n",
       "      <td>No Advertising: Spam, referral links, unsolici...</td>\n",
       "      <td>Futurology</td>\n",
       "      <td>If you could tell your younger self something ...</td>\n",
       "      <td>hunt for lady for jack off in neighbourhood ht...</td>\n",
       "      <td>Watch Golden Globe Awards 2017 Live Online in ...</td>\n",
       "      <td>DOUBLE CEE x BANDS EPPS - \"BIRDS\"\\n\\nDOWNLOAD/...</td>\n",
       "      <td>0</td>\n",
       "    </tr>\n",
       "    <tr>\n",
       "      <th>1</th>\n",
       "      <td>1</td>\n",
       "      <td>SD Stream [ ENG Link 1] (http://www.sportsstre...</td>\n",
       "      <td>No Advertising: Spam, referral links, unsolici...</td>\n",
       "      <td>soccerstreams</td>\n",
       "      <td>[I wanna kiss you all over! Stunning!](http://...</td>\n",
       "      <td>LOLGA.COM is One of the First Professional Onl...</td>\n",
       "      <td>#Rapper \\n🚨Straight Outta Cross Keys SC 🚨YouTu...</td>\n",
       "      <td>[15 Amazing Hidden Features Of Google Search Y...</td>\n",
       "      <td>0</td>\n",
       "    </tr>\n",
       "    <tr>\n",
       "      <th>2</th>\n",
       "      <td>2</td>\n",
       "      <td>Lol. Try appealing the ban and say you won't d...</td>\n",
       "      <td>No legal advice: Do not offer or request legal...</td>\n",
       "      <td>pcmasterrace</td>\n",
       "      <td>Don't break up with him or call the cops.  If ...</td>\n",
       "      <td>It'll be dismissed: https://en.wikipedia.org/w...</td>\n",
       "      <td>Where is there a site that still works where y...</td>\n",
       "      <td>Because this statement of his is true. It isn'...</td>\n",
       "      <td>1</td>\n",
       "    </tr>\n",
       "    <tr>\n",
       "      <th>3</th>\n",
       "      <td>3</td>\n",
       "      <td>she will come your home open her legs with  an...</td>\n",
       "      <td>No Advertising: Spam, referral links, unsolici...</td>\n",
       "      <td>sex</td>\n",
       "      <td>Selling Tyrande codes for 3€ to paypal. PM. \\n...</td>\n",
       "      <td>tight pussy watch for your cock get her at thi...</td>\n",
       "      <td>NSFW(obviously) http://spankbang.com/iy3u/vide...</td>\n",
       "      <td>Good News ::Download WhatsApp 2.16.230 APK for...</td>\n",
       "      <td>1</td>\n",
       "    </tr>\n",
       "    <tr>\n",
       "      <th>4</th>\n",
       "      <td>4</td>\n",
       "      <td>code free tyrande ---&gt;&gt;&gt; [Imgur](http://i.imgu...</td>\n",
       "      <td>No Advertising: Spam, referral links, unsolici...</td>\n",
       "      <td>hearthstone</td>\n",
       "      <td>wow!! amazing reminds me of the old days.Well...</td>\n",
       "      <td>seek for lady for sex in around http://p77.pl/...</td>\n",
       "      <td>must be watch movie https://sites.google.com/s...</td>\n",
       "      <td>We're streaming Pokemon Veitnamese Crystal RIG...</td>\n",
       "      <td>1</td>\n",
       "    </tr>\n",
       "  </tbody>\n",
       "</table>\n",
       "</div>"
      ],
      "text/plain": [
       "   row_id                                               body  \\\n",
       "0       0  Banks don't want you to know this! Click here ...   \n",
       "1       1  SD Stream [ ENG Link 1] (http://www.sportsstre...   \n",
       "2       2  Lol. Try appealing the ban and say you won't d...   \n",
       "3       3  she will come your home open her legs with  an...   \n",
       "4       4  code free tyrande --->>> [Imgur](http://i.imgu...   \n",
       "\n",
       "                                                rule      subreddit  \\\n",
       "0  No Advertising: Spam, referral links, unsolici...     Futurology   \n",
       "1  No Advertising: Spam, referral links, unsolici...  soccerstreams   \n",
       "2  No legal advice: Do not offer or request legal...   pcmasterrace   \n",
       "3  No Advertising: Spam, referral links, unsolici...            sex   \n",
       "4  No Advertising: Spam, referral links, unsolici...    hearthstone   \n",
       "\n",
       "                                  positive_example_1  \\\n",
       "0  If you could tell your younger self something ...   \n",
       "1  [I wanna kiss you all over! Stunning!](http://...   \n",
       "2  Don't break up with him or call the cops.  If ...   \n",
       "3  Selling Tyrande codes for 3€ to paypal. PM. \\n...   \n",
       "4   wow!! amazing reminds me of the old days.Well...   \n",
       "\n",
       "                                  positive_example_2  \\\n",
       "0  hunt for lady for jack off in neighbourhood ht...   \n",
       "1  LOLGA.COM is One of the First Professional Onl...   \n",
       "2  It'll be dismissed: https://en.wikipedia.org/w...   \n",
       "3  tight pussy watch for your cock get her at thi...   \n",
       "4  seek for lady for sex in around http://p77.pl/...   \n",
       "\n",
       "                                  negative_example_1  \\\n",
       "0  Watch Golden Globe Awards 2017 Live Online in ...   \n",
       "1  #Rapper \\n🚨Straight Outta Cross Keys SC 🚨YouTu...   \n",
       "2  Where is there a site that still works where y...   \n",
       "3  NSFW(obviously) http://spankbang.com/iy3u/vide...   \n",
       "4  must be watch movie https://sites.google.com/s...   \n",
       "\n",
       "                                  negative_example_2  rule_violation  \n",
       "0  DOUBLE CEE x BANDS EPPS - \"BIRDS\"\\n\\nDOWNLOAD/...               0  \n",
       "1  [15 Amazing Hidden Features Of Google Search Y...               0  \n",
       "2  Because this statement of his is true. It isn'...               1  \n",
       "3  Good News ::Download WhatsApp 2.16.230 APK for...               1  \n",
       "4  We're streaming Pokemon Veitnamese Crystal RIG...               1  "
      ]
     },
     "execution_count": 3,
     "metadata": {},
     "output_type": "execute_result"
    }
   ],
   "source": [
    "train_data.head()"
   ]
  },
  {
   "cell_type": "code",
   "execution_count": 4,
   "id": "c2532f65",
   "metadata": {
    "execution": {
     "iopub.execute_input": "2025-09-18T03:33:53.796365Z",
     "iopub.status.busy": "2025-09-18T03:33:53.795985Z",
     "iopub.status.idle": "2025-09-18T03:33:53.816027Z",
     "shell.execute_reply": "2025-09-18T03:33:53.814887Z"
    },
    "papermill": {
     "duration": 0.027163,
     "end_time": "2025-09-18T03:33:53.817614",
     "exception": false,
     "start_time": "2025-09-18T03:33:53.790451",
     "status": "completed"
    },
    "tags": []
   },
   "outputs": [],
   "source": [
    "train_data[\"text\"] = train_data['body'] + ','+ train_data['rule'] + ','+ train_data['subreddit'] + train_data['positive_example_1'] + ', '+ train_data['positive_example_2'] + ', '+ train_data['negative_example_1'] + ', '+ train_data['negative_example_2'] \n",
    "test_data[\"text\"] = test_data['body'] + ','+ test_data['rule'] + ','+ test_data['subreddit']+ test_data['positive_example_1'] + ', '+ test_data['positive_example_2'] + ', '+ test_data['negative_example_1'] + ', '+ test_data['negative_example_2'] "
   ]
  },
  {
   "cell_type": "code",
   "execution_count": 5,
   "id": "9f8cd1dc",
   "metadata": {
    "execution": {
     "iopub.execute_input": "2025-09-18T03:33:53.828764Z",
     "iopub.status.busy": "2025-09-18T03:33:53.828471Z",
     "iopub.status.idle": "2025-09-18T03:33:53.841516Z",
     "shell.execute_reply": "2025-09-18T03:33:53.840573Z"
    },
    "papermill": {
     "duration": 0.020413,
     "end_time": "2025-09-18T03:33:53.842994",
     "exception": false,
     "start_time": "2025-09-18T03:33:53.822581",
     "status": "completed"
    },
    "tags": []
   },
   "outputs": [
    {
     "data": {
      "text/html": [
       "<div>\n",
       "<style scoped>\n",
       "    .dataframe tbody tr th:only-of-type {\n",
       "        vertical-align: middle;\n",
       "    }\n",
       "\n",
       "    .dataframe tbody tr th {\n",
       "        vertical-align: top;\n",
       "    }\n",
       "\n",
       "    .dataframe thead th {\n",
       "        text-align: right;\n",
       "    }\n",
       "</style>\n",
       "<table border=\"1\" class=\"dataframe\">\n",
       "  <thead>\n",
       "    <tr style=\"text-align: right;\">\n",
       "      <th></th>\n",
       "      <th>row_id</th>\n",
       "      <th>body</th>\n",
       "      <th>rule</th>\n",
       "      <th>subreddit</th>\n",
       "      <th>positive_example_1</th>\n",
       "      <th>positive_example_2</th>\n",
       "      <th>negative_example_1</th>\n",
       "      <th>negative_example_2</th>\n",
       "      <th>rule_violation</th>\n",
       "      <th>text</th>\n",
       "    </tr>\n",
       "  </thead>\n",
       "  <tbody>\n",
       "    <tr>\n",
       "      <th>0</th>\n",
       "      <td>0</td>\n",
       "      <td>Banks don't want you to know this! Click here ...</td>\n",
       "      <td>No Advertising: Spam, referral links, unsolici...</td>\n",
       "      <td>Futurology</td>\n",
       "      <td>If you could tell your younger self something ...</td>\n",
       "      <td>hunt for lady for jack off in neighbourhood ht...</td>\n",
       "      <td>Watch Golden Globe Awards 2017 Live Online in ...</td>\n",
       "      <td>DOUBLE CEE x BANDS EPPS - \"BIRDS\"\\n\\nDOWNLOAD/...</td>\n",
       "      <td>0</td>\n",
       "      <td>Banks don't want you to know this! Click here ...</td>\n",
       "    </tr>\n",
       "    <tr>\n",
       "      <th>1</th>\n",
       "      <td>1</td>\n",
       "      <td>SD Stream [ ENG Link 1] (http://www.sportsstre...</td>\n",
       "      <td>No Advertising: Spam, referral links, unsolici...</td>\n",
       "      <td>soccerstreams</td>\n",
       "      <td>[I wanna kiss you all over! Stunning!](http://...</td>\n",
       "      <td>LOLGA.COM is One of the First Professional Onl...</td>\n",
       "      <td>#Rapper \\n🚨Straight Outta Cross Keys SC 🚨YouTu...</td>\n",
       "      <td>[15 Amazing Hidden Features Of Google Search Y...</td>\n",
       "      <td>0</td>\n",
       "      <td>SD Stream [ ENG Link 1] (http://www.sportsstre...</td>\n",
       "    </tr>\n",
       "    <tr>\n",
       "      <th>2</th>\n",
       "      <td>2</td>\n",
       "      <td>Lol. Try appealing the ban and say you won't d...</td>\n",
       "      <td>No legal advice: Do not offer or request legal...</td>\n",
       "      <td>pcmasterrace</td>\n",
       "      <td>Don't break up with him or call the cops.  If ...</td>\n",
       "      <td>It'll be dismissed: https://en.wikipedia.org/w...</td>\n",
       "      <td>Where is there a site that still works where y...</td>\n",
       "      <td>Because this statement of his is true. It isn'...</td>\n",
       "      <td>1</td>\n",
       "      <td>Lol. Try appealing the ban and say you won't d...</td>\n",
       "    </tr>\n",
       "    <tr>\n",
       "      <th>3</th>\n",
       "      <td>3</td>\n",
       "      <td>she will come your home open her legs with  an...</td>\n",
       "      <td>No Advertising: Spam, referral links, unsolici...</td>\n",
       "      <td>sex</td>\n",
       "      <td>Selling Tyrande codes for 3€ to paypal. PM. \\n...</td>\n",
       "      <td>tight pussy watch for your cock get her at thi...</td>\n",
       "      <td>NSFW(obviously) http://spankbang.com/iy3u/vide...</td>\n",
       "      <td>Good News ::Download WhatsApp 2.16.230 APK for...</td>\n",
       "      <td>1</td>\n",
       "      <td>she will come your home open her legs with  an...</td>\n",
       "    </tr>\n",
       "    <tr>\n",
       "      <th>4</th>\n",
       "      <td>4</td>\n",
       "      <td>code free tyrande ---&gt;&gt;&gt; [Imgur](http://i.imgu...</td>\n",
       "      <td>No Advertising: Spam, referral links, unsolici...</td>\n",
       "      <td>hearthstone</td>\n",
       "      <td>wow!! amazing reminds me of the old days.Well...</td>\n",
       "      <td>seek for lady for sex in around http://p77.pl/...</td>\n",
       "      <td>must be watch movie https://sites.google.com/s...</td>\n",
       "      <td>We're streaming Pokemon Veitnamese Crystal RIG...</td>\n",
       "      <td>1</td>\n",
       "      <td>code free tyrande ---&gt;&gt;&gt; [Imgur](http://i.imgu...</td>\n",
       "    </tr>\n",
       "  </tbody>\n",
       "</table>\n",
       "</div>"
      ],
      "text/plain": [
       "   row_id                                               body  \\\n",
       "0       0  Banks don't want you to know this! Click here ...   \n",
       "1       1  SD Stream [ ENG Link 1] (http://www.sportsstre...   \n",
       "2       2  Lol. Try appealing the ban and say you won't d...   \n",
       "3       3  she will come your home open her legs with  an...   \n",
       "4       4  code free tyrande --->>> [Imgur](http://i.imgu...   \n",
       "\n",
       "                                                rule      subreddit  \\\n",
       "0  No Advertising: Spam, referral links, unsolici...     Futurology   \n",
       "1  No Advertising: Spam, referral links, unsolici...  soccerstreams   \n",
       "2  No legal advice: Do not offer or request legal...   pcmasterrace   \n",
       "3  No Advertising: Spam, referral links, unsolici...            sex   \n",
       "4  No Advertising: Spam, referral links, unsolici...    hearthstone   \n",
       "\n",
       "                                  positive_example_1  \\\n",
       "0  If you could tell your younger self something ...   \n",
       "1  [I wanna kiss you all over! Stunning!](http://...   \n",
       "2  Don't break up with him or call the cops.  If ...   \n",
       "3  Selling Tyrande codes for 3€ to paypal. PM. \\n...   \n",
       "4   wow!! amazing reminds me of the old days.Well...   \n",
       "\n",
       "                                  positive_example_2  \\\n",
       "0  hunt for lady for jack off in neighbourhood ht...   \n",
       "1  LOLGA.COM is One of the First Professional Onl...   \n",
       "2  It'll be dismissed: https://en.wikipedia.org/w...   \n",
       "3  tight pussy watch for your cock get her at thi...   \n",
       "4  seek for lady for sex in around http://p77.pl/...   \n",
       "\n",
       "                                  negative_example_1  \\\n",
       "0  Watch Golden Globe Awards 2017 Live Online in ...   \n",
       "1  #Rapper \\n🚨Straight Outta Cross Keys SC 🚨YouTu...   \n",
       "2  Where is there a site that still works where y...   \n",
       "3  NSFW(obviously) http://spankbang.com/iy3u/vide...   \n",
       "4  must be watch movie https://sites.google.com/s...   \n",
       "\n",
       "                                  negative_example_2  rule_violation  \\\n",
       "0  DOUBLE CEE x BANDS EPPS - \"BIRDS\"\\n\\nDOWNLOAD/...               0   \n",
       "1  [15 Amazing Hidden Features Of Google Search Y...               0   \n",
       "2  Because this statement of his is true. It isn'...               1   \n",
       "3  Good News ::Download WhatsApp 2.16.230 APK for...               1   \n",
       "4  We're streaming Pokemon Veitnamese Crystal RIG...               1   \n",
       "\n",
       "                                                text  \n",
       "0  Banks don't want you to know this! Click here ...  \n",
       "1  SD Stream [ ENG Link 1] (http://www.sportsstre...  \n",
       "2  Lol. Try appealing the ban and say you won't d...  \n",
       "3  she will come your home open her legs with  an...  \n",
       "4  code free tyrande --->>> [Imgur](http://i.imgu...  "
      ]
     },
     "execution_count": 5,
     "metadata": {},
     "output_type": "execute_result"
    }
   ],
   "source": [
    "train_data.head()"
   ]
  },
  {
   "cell_type": "code",
   "execution_count": 6,
   "id": "18477ad2",
   "metadata": {
    "execution": {
     "iopub.execute_input": "2025-09-18T03:33:53.854684Z",
     "iopub.status.busy": "2025-09-18T03:33:53.853782Z",
     "iopub.status.idle": "2025-09-18T03:33:55.735702Z",
     "shell.execute_reply": "2025-09-18T03:33:55.734332Z"
    },
    "papermill": {
     "duration": 1.889659,
     "end_time": "2025-09-18T03:33:55.737678",
     "exception": false,
     "start_time": "2025-09-18T03:33:53.848019",
     "status": "completed"
    },
    "tags": []
   },
   "outputs": [],
   "source": [
    "from sklearn.feature_extraction.text import TfidfVectorizer\n",
    "from sklearn.model_selection import train_test_split"
   ]
  },
  {
   "cell_type": "code",
   "execution_count": 7,
   "id": "86ec4433",
   "metadata": {
    "execution": {
     "iopub.execute_input": "2025-09-18T03:33:55.749384Z",
     "iopub.status.busy": "2025-09-18T03:33:55.748946Z",
     "iopub.status.idle": "2025-09-18T03:33:56.528541Z",
     "shell.execute_reply": "2025-09-18T03:33:56.527214Z"
    },
    "papermill": {
     "duration": 0.788045,
     "end_time": "2025-09-18T03:33:56.530982",
     "exception": false,
     "start_time": "2025-09-18T03:33:55.742937",
     "status": "completed"
    },
    "tags": []
   },
   "outputs": [],
   "source": [
    "tfidf = TfidfVectorizer(max_features=100000, ngram_range=(1,2))\n",
    "X = tfidf.fit_transform(train_data[\"text\"])\n",
    "X_test = tfidf.transform(test_data[\"text\"])\n",
    "y = train_data[\"rule_violation\"]"
   ]
  },
  {
   "cell_type": "code",
   "execution_count": 8,
   "id": "48373be3",
   "metadata": {
    "execution": {
     "iopub.execute_input": "2025-09-18T03:33:56.543971Z",
     "iopub.status.busy": "2025-09-18T03:33:56.543609Z",
     "iopub.status.idle": "2025-09-18T03:33:58.080779Z",
     "shell.execute_reply": "2025-09-18T03:33:58.079649Z"
    },
    "papermill": {
     "duration": 1.546322,
     "end_time": "2025-09-18T03:33:58.082635",
     "exception": false,
     "start_time": "2025-09-18T03:33:56.536313",
     "status": "completed"
    },
    "tags": []
   },
   "outputs": [],
   "source": [
    "\n",
    "X = X.toarray().astype('float32')\n",
    "X_test = X_test.toarray().astype('float32')\n"
   ]
  },
  {
   "cell_type": "code",
   "execution_count": 9,
   "id": "f6913b20",
   "metadata": {
    "execution": {
     "iopub.execute_input": "2025-09-18T03:33:58.094140Z",
     "iopub.status.busy": "2025-09-18T03:33:58.093730Z",
     "iopub.status.idle": "2025-09-18T03:33:58.100126Z",
     "shell.execute_reply": "2025-09-18T03:33:58.099174Z"
    },
    "papermill": {
     "duration": 0.014523,
     "end_time": "2025-09-18T03:33:58.102132",
     "exception": false,
     "start_time": "2025-09-18T03:33:58.087609",
     "status": "completed"
    },
    "tags": []
   },
   "outputs": [
    {
     "data": {
      "text/plain": [
       "(2029, 54700)"
      ]
     },
     "execution_count": 9,
     "metadata": {},
     "output_type": "execute_result"
    }
   ],
   "source": [
    "X.shape"
   ]
  },
  {
   "cell_type": "code",
   "execution_count": 10,
   "id": "1751a40b",
   "metadata": {
    "execution": {
     "iopub.execute_input": "2025-09-18T03:33:58.113569Z",
     "iopub.status.busy": "2025-09-18T03:33:58.113285Z",
     "iopub.status.idle": "2025-09-18T03:33:58.119601Z",
     "shell.execute_reply": "2025-09-18T03:33:58.118492Z"
    },
    "papermill": {
     "duration": 0.014272,
     "end_time": "2025-09-18T03:33:58.121570",
     "exception": false,
     "start_time": "2025-09-18T03:33:58.107298",
     "status": "completed"
    },
    "tags": []
   },
   "outputs": [
    {
     "data": {
      "text/plain": [
       "(2029, 10)"
      ]
     },
     "execution_count": 10,
     "metadata": {},
     "output_type": "execute_result"
    }
   ],
   "source": [
    "train_data.shape"
   ]
  },
  {
   "cell_type": "code",
   "execution_count": 11,
   "id": "443fef88",
   "metadata": {
    "execution": {
     "iopub.execute_input": "2025-09-18T03:33:58.133601Z",
     "iopub.status.busy": "2025-09-18T03:33:58.132746Z",
     "iopub.status.idle": "2025-09-18T03:33:58.139385Z",
     "shell.execute_reply": "2025-09-18T03:33:58.138405Z"
    },
    "papermill": {
     "duration": 0.01468,
     "end_time": "2025-09-18T03:33:58.141337",
     "exception": false,
     "start_time": "2025-09-18T03:33:58.126657",
     "status": "completed"
    },
    "tags": []
   },
   "outputs": [
    {
     "data": {
      "text/plain": [
       "array([0., 0., 0., ..., 0., 0., 0.], dtype=float32)"
      ]
     },
     "execution_count": 11,
     "metadata": {},
     "output_type": "execute_result"
    }
   ],
   "source": [
    "X[0]"
   ]
  },
  {
   "cell_type": "code",
   "execution_count": 12,
   "id": "38904ca3",
   "metadata": {
    "execution": {
     "iopub.execute_input": "2025-09-18T03:33:58.155321Z",
     "iopub.status.busy": "2025-09-18T03:33:58.154998Z",
     "iopub.status.idle": "2025-09-18T03:33:58.309333Z",
     "shell.execute_reply": "2025-09-18T03:33:58.308032Z"
    },
    "papermill": {
     "duration": 0.162514,
     "end_time": "2025-09-18T03:33:58.311404",
     "exception": false,
     "start_time": "2025-09-18T03:33:58.148890",
     "status": "completed"
    },
    "tags": []
   },
   "outputs": [],
   "source": [
    "# Train/Validation split\n",
    "X_train, X_val, y_train, y_val = train_test_split(\n",
    "    X, y, test_size=0.2, random_state=42, stratify=y\n",
    ")"
   ]
  },
  {
   "cell_type": "code",
   "execution_count": 13,
   "id": "3c9e1b7d",
   "metadata": {
    "execution": {
     "iopub.execute_input": "2025-09-18T03:33:58.323645Z",
     "iopub.status.busy": "2025-09-18T03:33:58.323326Z",
     "iopub.status.idle": "2025-09-18T03:34:16.575113Z",
     "shell.execute_reply": "2025-09-18T03:34:16.574149Z"
    },
    "papermill": {
     "duration": 18.260313,
     "end_time": "2025-09-18T03:34:16.576935",
     "exception": false,
     "start_time": "2025-09-18T03:33:58.316622",
     "status": "completed"
    },
    "tags": []
   },
   "outputs": [
    {
     "name": "stderr",
     "output_type": "stream",
     "text": [
      "2025-09-18 03:34:00.514384: E external/local_xla/xla/stream_executor/cuda/cuda_fft.cc:477] Unable to register cuFFT factory: Attempting to register factory for plugin cuFFT when one has already been registered\n",
      "WARNING: All log messages before absl::InitializeLog() is called are written to STDERR\n",
      "E0000 00:00:1758166440.795007      13 cuda_dnn.cc:8310] Unable to register cuDNN factory: Attempting to register factory for plugin cuDNN when one has already been registered\n",
      "E0000 00:00:1758166440.869303      13 cuda_blas.cc:1418] Unable to register cuBLAS factory: Attempting to register factory for plugin cuBLAS when one has already been registered\n"
     ]
    }
   ],
   "source": [
    "from tensorflow import keras\n",
    "from tensorflow.keras import layers"
   ]
  },
  {
   "cell_type": "code",
   "execution_count": 14,
   "id": "9a404e60",
   "metadata": {
    "execution": {
     "iopub.execute_input": "2025-09-18T03:34:16.590413Z",
     "iopub.status.busy": "2025-09-18T03:34:16.589546Z",
     "iopub.status.idle": "2025-09-18T03:34:16.852873Z",
     "shell.execute_reply": "2025-09-18T03:34:16.851854Z"
    },
    "papermill": {
     "duration": 0.27175,
     "end_time": "2025-09-18T03:34:16.854697",
     "exception": false,
     "start_time": "2025-09-18T03:34:16.582947",
     "status": "completed"
    },
    "tags": []
   },
   "outputs": [
    {
     "name": "stderr",
     "output_type": "stream",
     "text": [
      "/usr/local/lib/python3.11/dist-packages/keras/src/layers/core/dense.py:87: UserWarning: Do not pass an `input_shape`/`input_dim` argument to a layer. When using Sequential models, prefer using an `Input(shape)` object as the first layer in the model instead.\n",
      "  super().__init__(activity_regularizer=activity_regularizer, **kwargs)\n",
      "2025-09-18 03:34:16.604700: E external/local_xla/xla/stream_executor/cuda/cuda_driver.cc:152] failed call to cuInit: INTERNAL: CUDA error: Failed call to cuInit: UNKNOWN ERROR (303)\n"
     ]
    }
   ],
   "source": [
    "model = keras.Sequential([\n",
    "    layers.Dense(256, activation='relu', input_shape=(X.shape[1],)),\n",
    "    layers.BatchNormalization(),\n",
    "    layers.Dropout(0.3),\n",
    "    layers.Dense(256, activation='relu'),\n",
    "    layers.BatchNormalization(),\n",
    "    layers.Dropout(0.3),\n",
    "    layers.Dense(1, activation = 'sigmoid')\n",
    "])"
   ]
  },
  {
   "cell_type": "code",
   "execution_count": 15,
   "id": "b9613975",
   "metadata": {
    "execution": {
     "iopub.execute_input": "2025-09-18T03:34:16.866769Z",
     "iopub.status.busy": "2025-09-18T03:34:16.866436Z",
     "iopub.status.idle": "2025-09-18T03:34:16.882318Z",
     "shell.execute_reply": "2025-09-18T03:34:16.881364Z"
    },
    "papermill": {
     "duration": 0.023951,
     "end_time": "2025-09-18T03:34:16.884063",
     "exception": false,
     "start_time": "2025-09-18T03:34:16.860112",
     "status": "completed"
    },
    "tags": []
   },
   "outputs": [],
   "source": [
    "model.compile(\n",
    "    optimizer = \"adam\",\n",
    "    loss = 'binary_crossentropy',\n",
    "    metrics = ['accuracy'],\n",
    ")"
   ]
  },
  {
   "cell_type": "code",
   "execution_count": 16,
   "id": "195f9045",
   "metadata": {
    "execution": {
     "iopub.execute_input": "2025-09-18T03:34:16.895913Z",
     "iopub.status.busy": "2025-09-18T03:34:16.895567Z",
     "iopub.status.idle": "2025-09-18T03:34:16.902300Z",
     "shell.execute_reply": "2025-09-18T03:34:16.901364Z"
    },
    "papermill": {
     "duration": 0.014797,
     "end_time": "2025-09-18T03:34:16.904293",
     "exception": false,
     "start_time": "2025-09-18T03:34:16.889496",
     "status": "completed"
    },
    "tags": []
   },
   "outputs": [],
   "source": [
    "from tensorflow.keras.callbacks import EarlyStopping\n",
    "early_stopping = EarlyStopping(\n",
    "    monitor = 'val_loss',\n",
    "    patience = 10,\n",
    "    restore_best_weights = True,\n",
    ")"
   ]
  },
  {
   "cell_type": "code",
   "execution_count": 17,
   "id": "91193373",
   "metadata": {
    "execution": {
     "iopub.execute_input": "2025-09-18T03:34:16.916000Z",
     "iopub.status.busy": "2025-09-18T03:34:16.915647Z",
     "iopub.status.idle": "2025-09-18T03:35:06.510796Z",
     "shell.execute_reply": "2025-09-18T03:35:06.509707Z"
    },
    "papermill": {
     "duration": 49.602979,
     "end_time": "2025-09-18T03:35:06.512586",
     "exception": false,
     "start_time": "2025-09-18T03:34:16.909607",
     "status": "completed"
    },
    "tags": []
   },
   "outputs": [
    {
     "name": "stdout",
     "output_type": "stream",
     "text": [
      "Epoch 1/5\n",
      "\u001b[1m51/51\u001b[0m \u001b[32m━━━━━━━━━━━━━━━━━━━━\u001b[0m\u001b[37m\u001b[0m \u001b[1m13s\u001b[0m 176ms/step - accuracy: 0.5313 - loss: 1.0084 - val_accuracy: 0.5074 - val_loss: 0.6931\n",
      "Epoch 2/5\n",
      "\u001b[1m51/51\u001b[0m \u001b[32m━━━━━━━━━━━━━━━━━━━━\u001b[0m\u001b[37m\u001b[0m \u001b[1m9s\u001b[0m 167ms/step - accuracy: 0.7390 - loss: 0.5611 - val_accuracy: 0.5074 - val_loss: 0.6947\n",
      "Epoch 3/5\n",
      "\u001b[1m51/51\u001b[0m \u001b[32m━━━━━━━━━━━━━━━━━━━━\u001b[0m\u001b[37m\u001b[0m \u001b[1m9s\u001b[0m 168ms/step - accuracy: 0.8484 - loss: 0.3181 - val_accuracy: 0.5099 - val_loss: 0.7045\n",
      "Epoch 4/5\n",
      "\u001b[1m51/51\u001b[0m \u001b[32m━━━━━━━━━━━━━━━━━━━━\u001b[0m\u001b[37m\u001b[0m \u001b[1m9s\u001b[0m 167ms/step - accuracy: 0.9344 - loss: 0.1661 - val_accuracy: 0.5123 - val_loss: 0.7081\n",
      "Epoch 5/5\n",
      "\u001b[1m51/51\u001b[0m \u001b[32m━━━━━━━━━━━━━━━━━━━━\u001b[0m\u001b[37m\u001b[0m \u001b[1m10s\u001b[0m 169ms/step - accuracy: 0.9804 - loss: 0.0807 - val_accuracy: 0.5197 - val_loss: 0.7165\n"
     ]
    },
    {
     "data": {
      "text/plain": [
       "<keras.src.callbacks.history.History at 0x7b73d514a8d0>"
      ]
     },
     "execution_count": 17,
     "metadata": {},
     "output_type": "execute_result"
    }
   ],
   "source": [
    "model.fit(\n",
    "    X_train, y_train,\n",
    "    validation_data = (X_val, y_val),\n",
    "    epochs = 5,\n",
    "    callbacks = [early_stopping],\n",
    "    verbose =1\n",
    ")"
   ]
  },
  {
   "cell_type": "code",
   "execution_count": 18,
   "id": "0ce9845b",
   "metadata": {
    "execution": {
     "iopub.execute_input": "2025-09-18T03:35:06.554184Z",
     "iopub.status.busy": "2025-09-18T03:35:06.553812Z",
     "iopub.status.idle": "2025-09-18T03:35:06.760648Z",
     "shell.execute_reply": "2025-09-18T03:35:06.759769Z"
    },
    "papermill": {
     "duration": 0.229069,
     "end_time": "2025-09-18T03:35:06.762666",
     "exception": false,
     "start_time": "2025-09-18T03:35:06.533597",
     "status": "completed"
    },
    "tags": []
   },
   "outputs": [
    {
     "name": "stdout",
     "output_type": "stream",
     "text": [
      "\u001b[1m1/1\u001b[0m \u001b[32m━━━━━━━━━━━━━━━━━━━━\u001b[0m\u001b[37m\u001b[0m \u001b[1m0s\u001b[0m 135ms/step\n"
     ]
    }
   ],
   "source": [
    "pred = (model.predict(X_test) > 0.5).astype(int)"
   ]
  },
  {
   "cell_type": "code",
   "execution_count": 19,
   "id": "0f901495",
   "metadata": {
    "execution": {
     "iopub.execute_input": "2025-09-18T03:35:06.801890Z",
     "iopub.status.busy": "2025-09-18T03:35:06.801531Z",
     "iopub.status.idle": "2025-09-18T03:35:06.810318Z",
     "shell.execute_reply": "2025-09-18T03:35:06.809275Z"
    },
    "papermill": {
     "duration": 0.030271,
     "end_time": "2025-09-18T03:35:06.811975",
     "exception": false,
     "start_time": "2025-09-18T03:35:06.781704",
     "status": "completed"
    },
    "tags": []
   },
   "outputs": [],
   "source": [
    "output = pd.DataFrame(columns = ['row_id', 'rule_violation'])\n",
    "output['row_id'] = test_data['row_id']\n",
    "output['rule_violation'] =pred"
   ]
  },
  {
   "cell_type": "code",
   "execution_count": 20,
   "id": "0015ac77",
   "metadata": {
    "execution": {
     "iopub.execute_input": "2025-09-18T03:35:06.852903Z",
     "iopub.status.busy": "2025-09-18T03:35:06.852533Z",
     "iopub.status.idle": "2025-09-18T03:35:06.860954Z",
     "shell.execute_reply": "2025-09-18T03:35:06.860042Z"
    },
    "papermill": {
     "duration": 0.030775,
     "end_time": "2025-09-18T03:35:06.862398",
     "exception": false,
     "start_time": "2025-09-18T03:35:06.831623",
     "status": "completed"
    },
    "tags": []
   },
   "outputs": [
    {
     "data": {
      "text/html": [
       "<div>\n",
       "<style scoped>\n",
       "    .dataframe tbody tr th:only-of-type {\n",
       "        vertical-align: middle;\n",
       "    }\n",
       "\n",
       "    .dataframe tbody tr th {\n",
       "        vertical-align: top;\n",
       "    }\n",
       "\n",
       "    .dataframe thead th {\n",
       "        text-align: right;\n",
       "    }\n",
       "</style>\n",
       "<table border=\"1\" class=\"dataframe\">\n",
       "  <thead>\n",
       "    <tr style=\"text-align: right;\">\n",
       "      <th></th>\n",
       "      <th>row_id</th>\n",
       "      <th>rule_violation</th>\n",
       "    </tr>\n",
       "  </thead>\n",
       "  <tbody>\n",
       "    <tr>\n",
       "      <th>0</th>\n",
       "      <td>2029</td>\n",
       "      <td>1</td>\n",
       "    </tr>\n",
       "    <tr>\n",
       "      <th>1</th>\n",
       "      <td>2030</td>\n",
       "      <td>1</td>\n",
       "    </tr>\n",
       "    <tr>\n",
       "      <th>2</th>\n",
       "      <td>2031</td>\n",
       "      <td>1</td>\n",
       "    </tr>\n",
       "    <tr>\n",
       "      <th>3</th>\n",
       "      <td>2032</td>\n",
       "      <td>1</td>\n",
       "    </tr>\n",
       "    <tr>\n",
       "      <th>4</th>\n",
       "      <td>2033</td>\n",
       "      <td>1</td>\n",
       "    </tr>\n",
       "  </tbody>\n",
       "</table>\n",
       "</div>"
      ],
      "text/plain": [
       "   row_id  rule_violation\n",
       "0    2029               1\n",
       "1    2030               1\n",
       "2    2031               1\n",
       "3    2032               1\n",
       "4    2033               1"
      ]
     },
     "execution_count": 20,
     "metadata": {},
     "output_type": "execute_result"
    }
   ],
   "source": [
    "output.head()"
   ]
  },
  {
   "cell_type": "code",
   "execution_count": 21,
   "id": "b0ba9928",
   "metadata": {
    "execution": {
     "iopub.execute_input": "2025-09-18T03:35:06.901950Z",
     "iopub.status.busy": "2025-09-18T03:35:06.901557Z",
     "iopub.status.idle": "2025-09-18T03:35:06.920321Z",
     "shell.execute_reply": "2025-09-18T03:35:06.919295Z"
    },
    "papermill": {
     "duration": 0.040129,
     "end_time": "2025-09-18T03:35:06.921752",
     "exception": false,
     "start_time": "2025-09-18T03:35:06.881623",
     "status": "completed"
    },
    "tags": []
   },
   "outputs": [
    {
     "data": {
      "text/html": [
       "<div>\n",
       "<style scoped>\n",
       "    .dataframe tbody tr th:only-of-type {\n",
       "        vertical-align: middle;\n",
       "    }\n",
       "\n",
       "    .dataframe tbody tr th {\n",
       "        vertical-align: top;\n",
       "    }\n",
       "\n",
       "    .dataframe thead th {\n",
       "        text-align: right;\n",
       "    }\n",
       "</style>\n",
       "<table border=\"1\" class=\"dataframe\">\n",
       "  <thead>\n",
       "    <tr style=\"text-align: right;\">\n",
       "      <th></th>\n",
       "      <th>row_id</th>\n",
       "      <th>rule_violation</th>\n",
       "    </tr>\n",
       "  </thead>\n",
       "  <tbody>\n",
       "    <tr>\n",
       "      <th>count</th>\n",
       "      <td>10.00000</td>\n",
       "      <td>10.0</td>\n",
       "    </tr>\n",
       "    <tr>\n",
       "      <th>mean</th>\n",
       "      <td>2033.50000</td>\n",
       "      <td>1.0</td>\n",
       "    </tr>\n",
       "    <tr>\n",
       "      <th>std</th>\n",
       "      <td>3.02765</td>\n",
       "      <td>0.0</td>\n",
       "    </tr>\n",
       "    <tr>\n",
       "      <th>min</th>\n",
       "      <td>2029.00000</td>\n",
       "      <td>1.0</td>\n",
       "    </tr>\n",
       "    <tr>\n",
       "      <th>25%</th>\n",
       "      <td>2031.25000</td>\n",
       "      <td>1.0</td>\n",
       "    </tr>\n",
       "    <tr>\n",
       "      <th>50%</th>\n",
       "      <td>2033.50000</td>\n",
       "      <td>1.0</td>\n",
       "    </tr>\n",
       "    <tr>\n",
       "      <th>75%</th>\n",
       "      <td>2035.75000</td>\n",
       "      <td>1.0</td>\n",
       "    </tr>\n",
       "    <tr>\n",
       "      <th>max</th>\n",
       "      <td>2038.00000</td>\n",
       "      <td>1.0</td>\n",
       "    </tr>\n",
       "  </tbody>\n",
       "</table>\n",
       "</div>"
      ],
      "text/plain": [
       "           row_id  rule_violation\n",
       "count    10.00000            10.0\n",
       "mean   2033.50000             1.0\n",
       "std       3.02765             0.0\n",
       "min    2029.00000             1.0\n",
       "25%    2031.25000             1.0\n",
       "50%    2033.50000             1.0\n",
       "75%    2035.75000             1.0\n",
       "max    2038.00000             1.0"
      ]
     },
     "execution_count": 21,
     "metadata": {},
     "output_type": "execute_result"
    }
   ],
   "source": [
    "output.describe()"
   ]
  },
  {
   "cell_type": "code",
   "execution_count": 22,
   "id": "b764a914",
   "metadata": {
    "execution": {
     "iopub.execute_input": "2025-09-18T03:35:06.962224Z",
     "iopub.status.busy": "2025-09-18T03:35:06.961916Z",
     "iopub.status.idle": "2025-09-18T03:35:06.972548Z",
     "shell.execute_reply": "2025-09-18T03:35:06.971614Z"
    },
    "papermill": {
     "duration": 0.033102,
     "end_time": "2025-09-18T03:35:06.974302",
     "exception": false,
     "start_time": "2025-09-18T03:35:06.941200",
     "status": "completed"
    },
    "tags": []
   },
   "outputs": [],
   "source": [
    "output.to_csv(\"submission.csv\", index = False)"
   ]
  },
  {
   "cell_type": "code",
   "execution_count": null,
   "id": "9b50d3de",
   "metadata": {
    "papermill": {
     "duration": 0.019517,
     "end_time": "2025-09-18T03:35:07.013378",
     "exception": false,
     "start_time": "2025-09-18T03:35:06.993861",
     "status": "completed"
    },
    "tags": []
   },
   "outputs": [],
   "source": []
  }
 ],
 "metadata": {
  "kaggle": {
   "accelerator": "none",
   "dataSources": [
    {
     "databundleVersionId": 13121456,
     "isSourceIdPinned": false,
     "sourceId": 94635,
     "sourceType": "competition"
    }
   ],
   "dockerImageVersionId": 31089,
   "isGpuEnabled": false,
   "isInternetEnabled": true,
   "language": "python",
   "sourceType": "notebook"
  },
  "kernelspec": {
   "display_name": "Python 3",
   "language": "python",
   "name": "python3"
  },
  "language_info": {
   "codemirror_mode": {
    "name": "ipython",
    "version": 3
   },
   "file_extension": ".py",
   "mimetype": "text/x-python",
   "name": "python",
   "nbconvert_exporter": "python",
   "pygments_lexer": "ipython3",
   "version": "3.11.13"
  },
  "papermill": {
   "default_parameters": {},
   "duration": 84.899007,
   "end_time": "2025-09-18T03:35:10.535318",
   "environment_variables": {},
   "exception": null,
   "input_path": "__notebook__.ipynb",
   "output_path": "__notebook__.ipynb",
   "parameters": {},
   "start_time": "2025-09-18T03:33:45.636311",
   "version": "2.6.0"
  }
 },
 "nbformat": 4,
 "nbformat_minor": 5
}
