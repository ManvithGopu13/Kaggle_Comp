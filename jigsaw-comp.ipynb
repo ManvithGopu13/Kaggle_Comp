{
 "cells": [
  {
   "cell_type": "code",
   "execution_count": 1,
   "id": "2b731597",
   "metadata": {
    "_cell_guid": "b1076dfc-b9ad-4769-8c92-a6c4dae69d19",
    "_uuid": "8f2839f25d086af736a60e9eeb907d3b93b6e0e5",
    "execution": {
     "iopub.execute_input": "2025-09-18T03:49:51.135750Z",
     "iopub.status.busy": "2025-09-18T03:49:51.135448Z",
     "iopub.status.idle": "2025-09-18T03:49:52.854235Z",
     "shell.execute_reply": "2025-09-18T03:49:52.853125Z"
    },
    "papermill": {
     "duration": 1.726433,
     "end_time": "2025-09-18T03:49:52.855735",
     "exception": false,
     "start_time": "2025-09-18T03:49:51.129302",
     "status": "completed"
    },
    "tags": []
   },
   "outputs": [
    {
     "name": "stdout",
     "output_type": "stream",
     "text": [
      "/kaggle/input/jigsaw-agile-community-rules/sample_submission.csv\n",
      "/kaggle/input/jigsaw-agile-community-rules/train.csv\n",
      "/kaggle/input/jigsaw-agile-community-rules/test.csv\n"
     ]
    }
   ],
   "source": [
    "# This Python 3 environment comes with many helpful analytics libraries installed\n",
    "# It is defined by the kaggle/python Docker image: https://github.com/kaggle/docker-python\n",
    "# For example, here's several helpful packages to load\n",
    "\n",
    "import numpy as np # linear algebra\n",
    "import pandas as pd # data processing, CSV file I/O (e.g. pd.read_csv)\n",
    "\n",
    "# Input data files are available in the read-only \"../input/\" directory\n",
    "# For example, running this (by clicking run or pressing Shift+Enter) will list all files under the input directory\n",
    "\n",
    "import os\n",
    "for dirname, _, filenames in os.walk('/kaggle/input'):\n",
    "    for filename in filenames:\n",
    "        print(os.path.join(dirname, filename))\n",
    "\n",
    "# You can write up to 20GB to the current directory (/kaggle/working/) that gets preserved as output when you create a version using \"Save & Run All\" \n",
    "# You can also write temporary files to /kaggle/temp/, but they won't be saved outside of the current session"
   ]
  },
  {
   "cell_type": "code",
   "execution_count": 2,
   "id": "63ec5a16",
   "metadata": {
    "execution": {
     "iopub.execute_input": "2025-09-18T03:49:52.865981Z",
     "iopub.status.busy": "2025-09-18T03:49:52.865595Z",
     "iopub.status.idle": "2025-09-18T03:49:52.951941Z",
     "shell.execute_reply": "2025-09-18T03:49:52.951237Z"
    },
    "papermill": {
     "duration": 0.093161,
     "end_time": "2025-09-18T03:49:52.953492",
     "exception": false,
     "start_time": "2025-09-18T03:49:52.860331",
     "status": "completed"
    },
    "tags": []
   },
   "outputs": [],
   "source": [
    "train_data = pd.read_csv(\"/kaggle/input/jigsaw-agile-community-rules/train.csv\")\n",
    "test_data = pd.read_csv(\"/kaggle/input/jigsaw-agile-community-rules/test.csv\")"
   ]
  },
  {
   "cell_type": "code",
   "execution_count": 3,
   "id": "f4e437c0",
   "metadata": {
    "execution": {
     "iopub.execute_input": "2025-09-18T03:49:52.963418Z",
     "iopub.status.busy": "2025-09-18T03:49:52.962855Z",
     "iopub.status.idle": "2025-09-18T03:49:52.985905Z",
     "shell.execute_reply": "2025-09-18T03:49:52.984950Z"
    },
    "papermill": {
     "duration": 0.029355,
     "end_time": "2025-09-18T03:49:52.987278",
     "exception": false,
     "start_time": "2025-09-18T03:49:52.957923",
     "status": "completed"
    },
    "tags": []
   },
   "outputs": [
    {
     "data": {
      "text/html": [
       "<div>\n",
       "<style scoped>\n",
       "    .dataframe tbody tr th:only-of-type {\n",
       "        vertical-align: middle;\n",
       "    }\n",
       "\n",
       "    .dataframe tbody tr th {\n",
       "        vertical-align: top;\n",
       "    }\n",
       "\n",
       "    .dataframe thead th {\n",
       "        text-align: right;\n",
       "    }\n",
       "</style>\n",
       "<table border=\"1\" class=\"dataframe\">\n",
       "  <thead>\n",
       "    <tr style=\"text-align: right;\">\n",
       "      <th></th>\n",
       "      <th>row_id</th>\n",
       "      <th>body</th>\n",
       "      <th>rule</th>\n",
       "      <th>subreddit</th>\n",
       "      <th>positive_example_1</th>\n",
       "      <th>positive_example_2</th>\n",
       "      <th>negative_example_1</th>\n",
       "      <th>negative_example_2</th>\n",
       "      <th>rule_violation</th>\n",
       "    </tr>\n",
       "  </thead>\n",
       "  <tbody>\n",
       "    <tr>\n",
       "      <th>0</th>\n",
       "      <td>0</td>\n",
       "      <td>Banks don't want you to know this! Click here ...</td>\n",
       "      <td>No Advertising: Spam, referral links, unsolici...</td>\n",
       "      <td>Futurology</td>\n",
       "      <td>If you could tell your younger self something ...</td>\n",
       "      <td>hunt for lady for jack off in neighbourhood ht...</td>\n",
       "      <td>Watch Golden Globe Awards 2017 Live Online in ...</td>\n",
       "      <td>DOUBLE CEE x BANDS EPPS - \"BIRDS\"\\n\\nDOWNLOAD/...</td>\n",
       "      <td>0</td>\n",
       "    </tr>\n",
       "    <tr>\n",
       "      <th>1</th>\n",
       "      <td>1</td>\n",
       "      <td>SD Stream [ ENG Link 1] (http://www.sportsstre...</td>\n",
       "      <td>No Advertising: Spam, referral links, unsolici...</td>\n",
       "      <td>soccerstreams</td>\n",
       "      <td>[I wanna kiss you all over! Stunning!](http://...</td>\n",
       "      <td>LOLGA.COM is One of the First Professional Onl...</td>\n",
       "      <td>#Rapper \\n🚨Straight Outta Cross Keys SC 🚨YouTu...</td>\n",
       "      <td>[15 Amazing Hidden Features Of Google Search Y...</td>\n",
       "      <td>0</td>\n",
       "    </tr>\n",
       "    <tr>\n",
       "      <th>2</th>\n",
       "      <td>2</td>\n",
       "      <td>Lol. Try appealing the ban and say you won't d...</td>\n",
       "      <td>No legal advice: Do not offer or request legal...</td>\n",
       "      <td>pcmasterrace</td>\n",
       "      <td>Don't break up with him or call the cops.  If ...</td>\n",
       "      <td>It'll be dismissed: https://en.wikipedia.org/w...</td>\n",
       "      <td>Where is there a site that still works where y...</td>\n",
       "      <td>Because this statement of his is true. It isn'...</td>\n",
       "      <td>1</td>\n",
       "    </tr>\n",
       "    <tr>\n",
       "      <th>3</th>\n",
       "      <td>3</td>\n",
       "      <td>she will come your home open her legs with  an...</td>\n",
       "      <td>No Advertising: Spam, referral links, unsolici...</td>\n",
       "      <td>sex</td>\n",
       "      <td>Selling Tyrande codes for 3€ to paypal. PM. \\n...</td>\n",
       "      <td>tight pussy watch for your cock get her at thi...</td>\n",
       "      <td>NSFW(obviously) http://spankbang.com/iy3u/vide...</td>\n",
       "      <td>Good News ::Download WhatsApp 2.16.230 APK for...</td>\n",
       "      <td>1</td>\n",
       "    </tr>\n",
       "    <tr>\n",
       "      <th>4</th>\n",
       "      <td>4</td>\n",
       "      <td>code free tyrande ---&gt;&gt;&gt; [Imgur](http://i.imgu...</td>\n",
       "      <td>No Advertising: Spam, referral links, unsolici...</td>\n",
       "      <td>hearthstone</td>\n",
       "      <td>wow!! amazing reminds me of the old days.Well...</td>\n",
       "      <td>seek for lady for sex in around http://p77.pl/...</td>\n",
       "      <td>must be watch movie https://sites.google.com/s...</td>\n",
       "      <td>We're streaming Pokemon Veitnamese Crystal RIG...</td>\n",
       "      <td>1</td>\n",
       "    </tr>\n",
       "  </tbody>\n",
       "</table>\n",
       "</div>"
      ],
      "text/plain": [
       "   row_id                                               body  \\\n",
       "0       0  Banks don't want you to know this! Click here ...   \n",
       "1       1  SD Stream [ ENG Link 1] (http://www.sportsstre...   \n",
       "2       2  Lol. Try appealing the ban and say you won't d...   \n",
       "3       3  she will come your home open her legs with  an...   \n",
       "4       4  code free tyrande --->>> [Imgur](http://i.imgu...   \n",
       "\n",
       "                                                rule      subreddit  \\\n",
       "0  No Advertising: Spam, referral links, unsolici...     Futurology   \n",
       "1  No Advertising: Spam, referral links, unsolici...  soccerstreams   \n",
       "2  No legal advice: Do not offer or request legal...   pcmasterrace   \n",
       "3  No Advertising: Spam, referral links, unsolici...            sex   \n",
       "4  No Advertising: Spam, referral links, unsolici...    hearthstone   \n",
       "\n",
       "                                  positive_example_1  \\\n",
       "0  If you could tell your younger self something ...   \n",
       "1  [I wanna kiss you all over! Stunning!](http://...   \n",
       "2  Don't break up with him or call the cops.  If ...   \n",
       "3  Selling Tyrande codes for 3€ to paypal. PM. \\n...   \n",
       "4   wow!! amazing reminds me of the old days.Well...   \n",
       "\n",
       "                                  positive_example_2  \\\n",
       "0  hunt for lady for jack off in neighbourhood ht...   \n",
       "1  LOLGA.COM is One of the First Professional Onl...   \n",
       "2  It'll be dismissed: https://en.wikipedia.org/w...   \n",
       "3  tight pussy watch for your cock get her at thi...   \n",
       "4  seek for lady for sex in around http://p77.pl/...   \n",
       "\n",
       "                                  negative_example_1  \\\n",
       "0  Watch Golden Globe Awards 2017 Live Online in ...   \n",
       "1  #Rapper \\n🚨Straight Outta Cross Keys SC 🚨YouTu...   \n",
       "2  Where is there a site that still works where y...   \n",
       "3  NSFW(obviously) http://spankbang.com/iy3u/vide...   \n",
       "4  must be watch movie https://sites.google.com/s...   \n",
       "\n",
       "                                  negative_example_2  rule_violation  \n",
       "0  DOUBLE CEE x BANDS EPPS - \"BIRDS\"\\n\\nDOWNLOAD/...               0  \n",
       "1  [15 Amazing Hidden Features Of Google Search Y...               0  \n",
       "2  Because this statement of his is true. It isn'...               1  \n",
       "3  Good News ::Download WhatsApp 2.16.230 APK for...               1  \n",
       "4  We're streaming Pokemon Veitnamese Crystal RIG...               1  "
      ]
     },
     "execution_count": 3,
     "metadata": {},
     "output_type": "execute_result"
    }
   ],
   "source": [
    "train_data.head()"
   ]
  },
  {
   "cell_type": "code",
   "execution_count": 4,
   "id": "9a5ff6b7",
   "metadata": {
    "execution": {
     "iopub.execute_input": "2025-09-18T03:49:52.998216Z",
     "iopub.status.busy": "2025-09-18T03:49:52.997643Z",
     "iopub.status.idle": "2025-09-18T03:49:53.014692Z",
     "shell.execute_reply": "2025-09-18T03:49:53.013745Z"
    },
    "papermill": {
     "duration": 0.023877,
     "end_time": "2025-09-18T03:49:53.016118",
     "exception": false,
     "start_time": "2025-09-18T03:49:52.992241",
     "status": "completed"
    },
    "tags": []
   },
   "outputs": [],
   "source": [
    "train_data[\"text\"] = train_data['body'] + ','+ train_data['rule'] + ','+ train_data['subreddit'] + train_data['positive_example_1'] + ', '+ train_data['positive_example_2'] + ', '+ train_data['negative_example_1'] + ', '+ train_data['negative_example_2'] \n",
    "test_data[\"text\"] = test_data['body'] + ','+ test_data['rule'] + ','+ test_data['subreddit']+ test_data['positive_example_1'] + ', '+ test_data['positive_example_2'] + ', '+ test_data['negative_example_1'] + ', '+ test_data['negative_example_2'] "
   ]
  },
  {
   "cell_type": "code",
   "execution_count": 5,
   "id": "ca6e5b2e",
   "metadata": {
    "execution": {
     "iopub.execute_input": "2025-09-18T03:49:53.026747Z",
     "iopub.status.busy": "2025-09-18T03:49:53.026101Z",
     "iopub.status.idle": "2025-09-18T03:49:53.038067Z",
     "shell.execute_reply": "2025-09-18T03:49:53.037233Z"
    },
    "papermill": {
     "duration": 0.018599,
     "end_time": "2025-09-18T03:49:53.039395",
     "exception": false,
     "start_time": "2025-09-18T03:49:53.020796",
     "status": "completed"
    },
    "tags": []
   },
   "outputs": [
    {
     "data": {
      "text/html": [
       "<div>\n",
       "<style scoped>\n",
       "    .dataframe tbody tr th:only-of-type {\n",
       "        vertical-align: middle;\n",
       "    }\n",
       "\n",
       "    .dataframe tbody tr th {\n",
       "        vertical-align: top;\n",
       "    }\n",
       "\n",
       "    .dataframe thead th {\n",
       "        text-align: right;\n",
       "    }\n",
       "</style>\n",
       "<table border=\"1\" class=\"dataframe\">\n",
       "  <thead>\n",
       "    <tr style=\"text-align: right;\">\n",
       "      <th></th>\n",
       "      <th>row_id</th>\n",
       "      <th>body</th>\n",
       "      <th>rule</th>\n",
       "      <th>subreddit</th>\n",
       "      <th>positive_example_1</th>\n",
       "      <th>positive_example_2</th>\n",
       "      <th>negative_example_1</th>\n",
       "      <th>negative_example_2</th>\n",
       "      <th>rule_violation</th>\n",
       "      <th>text</th>\n",
       "    </tr>\n",
       "  </thead>\n",
       "  <tbody>\n",
       "    <tr>\n",
       "      <th>0</th>\n",
       "      <td>0</td>\n",
       "      <td>Banks don't want you to know this! Click here ...</td>\n",
       "      <td>No Advertising: Spam, referral links, unsolici...</td>\n",
       "      <td>Futurology</td>\n",
       "      <td>If you could tell your younger self something ...</td>\n",
       "      <td>hunt for lady for jack off in neighbourhood ht...</td>\n",
       "      <td>Watch Golden Globe Awards 2017 Live Online in ...</td>\n",
       "      <td>DOUBLE CEE x BANDS EPPS - \"BIRDS\"\\n\\nDOWNLOAD/...</td>\n",
       "      <td>0</td>\n",
       "      <td>Banks don't want you to know this! Click here ...</td>\n",
       "    </tr>\n",
       "    <tr>\n",
       "      <th>1</th>\n",
       "      <td>1</td>\n",
       "      <td>SD Stream [ ENG Link 1] (http://www.sportsstre...</td>\n",
       "      <td>No Advertising: Spam, referral links, unsolici...</td>\n",
       "      <td>soccerstreams</td>\n",
       "      <td>[I wanna kiss you all over! Stunning!](http://...</td>\n",
       "      <td>LOLGA.COM is One of the First Professional Onl...</td>\n",
       "      <td>#Rapper \\n🚨Straight Outta Cross Keys SC 🚨YouTu...</td>\n",
       "      <td>[15 Amazing Hidden Features Of Google Search Y...</td>\n",
       "      <td>0</td>\n",
       "      <td>SD Stream [ ENG Link 1] (http://www.sportsstre...</td>\n",
       "    </tr>\n",
       "    <tr>\n",
       "      <th>2</th>\n",
       "      <td>2</td>\n",
       "      <td>Lol. Try appealing the ban and say you won't d...</td>\n",
       "      <td>No legal advice: Do not offer or request legal...</td>\n",
       "      <td>pcmasterrace</td>\n",
       "      <td>Don't break up with him or call the cops.  If ...</td>\n",
       "      <td>It'll be dismissed: https://en.wikipedia.org/w...</td>\n",
       "      <td>Where is there a site that still works where y...</td>\n",
       "      <td>Because this statement of his is true. It isn'...</td>\n",
       "      <td>1</td>\n",
       "      <td>Lol. Try appealing the ban and say you won't d...</td>\n",
       "    </tr>\n",
       "    <tr>\n",
       "      <th>3</th>\n",
       "      <td>3</td>\n",
       "      <td>she will come your home open her legs with  an...</td>\n",
       "      <td>No Advertising: Spam, referral links, unsolici...</td>\n",
       "      <td>sex</td>\n",
       "      <td>Selling Tyrande codes for 3€ to paypal. PM. \\n...</td>\n",
       "      <td>tight pussy watch for your cock get her at thi...</td>\n",
       "      <td>NSFW(obviously) http://spankbang.com/iy3u/vide...</td>\n",
       "      <td>Good News ::Download WhatsApp 2.16.230 APK for...</td>\n",
       "      <td>1</td>\n",
       "      <td>she will come your home open her legs with  an...</td>\n",
       "    </tr>\n",
       "    <tr>\n",
       "      <th>4</th>\n",
       "      <td>4</td>\n",
       "      <td>code free tyrande ---&gt;&gt;&gt; [Imgur](http://i.imgu...</td>\n",
       "      <td>No Advertising: Spam, referral links, unsolici...</td>\n",
       "      <td>hearthstone</td>\n",
       "      <td>wow!! amazing reminds me of the old days.Well...</td>\n",
       "      <td>seek for lady for sex in around http://p77.pl/...</td>\n",
       "      <td>must be watch movie https://sites.google.com/s...</td>\n",
       "      <td>We're streaming Pokemon Veitnamese Crystal RIG...</td>\n",
       "      <td>1</td>\n",
       "      <td>code free tyrande ---&gt;&gt;&gt; [Imgur](http://i.imgu...</td>\n",
       "    </tr>\n",
       "  </tbody>\n",
       "</table>\n",
       "</div>"
      ],
      "text/plain": [
       "   row_id                                               body  \\\n",
       "0       0  Banks don't want you to know this! Click here ...   \n",
       "1       1  SD Stream [ ENG Link 1] (http://www.sportsstre...   \n",
       "2       2  Lol. Try appealing the ban and say you won't d...   \n",
       "3       3  she will come your home open her legs with  an...   \n",
       "4       4  code free tyrande --->>> [Imgur](http://i.imgu...   \n",
       "\n",
       "                                                rule      subreddit  \\\n",
       "0  No Advertising: Spam, referral links, unsolici...     Futurology   \n",
       "1  No Advertising: Spam, referral links, unsolici...  soccerstreams   \n",
       "2  No legal advice: Do not offer or request legal...   pcmasterrace   \n",
       "3  No Advertising: Spam, referral links, unsolici...            sex   \n",
       "4  No Advertising: Spam, referral links, unsolici...    hearthstone   \n",
       "\n",
       "                                  positive_example_1  \\\n",
       "0  If you could tell your younger self something ...   \n",
       "1  [I wanna kiss you all over! Stunning!](http://...   \n",
       "2  Don't break up with him or call the cops.  If ...   \n",
       "3  Selling Tyrande codes for 3€ to paypal. PM. \\n...   \n",
       "4   wow!! amazing reminds me of the old days.Well...   \n",
       "\n",
       "                                  positive_example_2  \\\n",
       "0  hunt for lady for jack off in neighbourhood ht...   \n",
       "1  LOLGA.COM is One of the First Professional Onl...   \n",
       "2  It'll be dismissed: https://en.wikipedia.org/w...   \n",
       "3  tight pussy watch for your cock get her at thi...   \n",
       "4  seek for lady for sex in around http://p77.pl/...   \n",
       "\n",
       "                                  negative_example_1  \\\n",
       "0  Watch Golden Globe Awards 2017 Live Online in ...   \n",
       "1  #Rapper \\n🚨Straight Outta Cross Keys SC 🚨YouTu...   \n",
       "2  Where is there a site that still works where y...   \n",
       "3  NSFW(obviously) http://spankbang.com/iy3u/vide...   \n",
       "4  must be watch movie https://sites.google.com/s...   \n",
       "\n",
       "                                  negative_example_2  rule_violation  \\\n",
       "0  DOUBLE CEE x BANDS EPPS - \"BIRDS\"\\n\\nDOWNLOAD/...               0   \n",
       "1  [15 Amazing Hidden Features Of Google Search Y...               0   \n",
       "2  Because this statement of his is true. It isn'...               1   \n",
       "3  Good News ::Download WhatsApp 2.16.230 APK for...               1   \n",
       "4  We're streaming Pokemon Veitnamese Crystal RIG...               1   \n",
       "\n",
       "                                                text  \n",
       "0  Banks don't want you to know this! Click here ...  \n",
       "1  SD Stream [ ENG Link 1] (http://www.sportsstre...  \n",
       "2  Lol. Try appealing the ban and say you won't d...  \n",
       "3  she will come your home open her legs with  an...  \n",
       "4  code free tyrande --->>> [Imgur](http://i.imgu...  "
      ]
     },
     "execution_count": 5,
     "metadata": {},
     "output_type": "execute_result"
    }
   ],
   "source": [
    "train_data.head()"
   ]
  },
  {
   "cell_type": "code",
   "execution_count": 6,
   "id": "a7a18015",
   "metadata": {
    "execution": {
     "iopub.execute_input": "2025-09-18T03:49:53.050482Z",
     "iopub.status.busy": "2025-09-18T03:49:53.049865Z",
     "iopub.status.idle": "2025-09-18T03:49:54.536146Z",
     "shell.execute_reply": "2025-09-18T03:49:54.535318Z"
    },
    "papermill": {
     "duration": 1.493431,
     "end_time": "2025-09-18T03:49:54.537845",
     "exception": false,
     "start_time": "2025-09-18T03:49:53.044414",
     "status": "completed"
    },
    "tags": []
   },
   "outputs": [],
   "source": [
    "from sklearn.feature_extraction.text import TfidfVectorizer\n",
    "from sklearn.model_selection import train_test_split"
   ]
  },
  {
   "cell_type": "code",
   "execution_count": 7,
   "id": "3c77d9db",
   "metadata": {
    "execution": {
     "iopub.execute_input": "2025-09-18T03:49:54.549205Z",
     "iopub.status.busy": "2025-09-18T03:49:54.548423Z",
     "iopub.status.idle": "2025-09-18T03:49:55.249892Z",
     "shell.execute_reply": "2025-09-18T03:49:55.249009Z"
    },
    "papermill": {
     "duration": 0.708744,
     "end_time": "2025-09-18T03:49:55.251633",
     "exception": false,
     "start_time": "2025-09-18T03:49:54.542889",
     "status": "completed"
    },
    "tags": []
   },
   "outputs": [],
   "source": [
    "tfidf = TfidfVectorizer(max_features=100000, ngram_range=(1,2))\n",
    "X = tfidf.fit_transform(train_data[\"text\"])\n",
    "X_test = tfidf.transform(test_data[\"text\"])\n",
    "y = train_data[\"rule_violation\"]"
   ]
  },
  {
   "cell_type": "code",
   "execution_count": 8,
   "id": "ed611817",
   "metadata": {
    "execution": {
     "iopub.execute_input": "2025-09-18T03:49:55.264242Z",
     "iopub.status.busy": "2025-09-18T03:49:55.263573Z",
     "iopub.status.idle": "2025-09-18T03:49:56.584090Z",
     "shell.execute_reply": "2025-09-18T03:49:56.583236Z"
    },
    "papermill": {
     "duration": 1.328971,
     "end_time": "2025-09-18T03:49:56.585730",
     "exception": false,
     "start_time": "2025-09-18T03:49:55.256759",
     "status": "completed"
    },
    "tags": []
   },
   "outputs": [],
   "source": [
    "\n",
    "X = X.toarray().astype('float32')\n",
    "X_test = X_test.toarray().astype('float32')\n"
   ]
  },
  {
   "cell_type": "code",
   "execution_count": 9,
   "id": "44db4ea7",
   "metadata": {
    "execution": {
     "iopub.execute_input": "2025-09-18T03:49:56.597424Z",
     "iopub.status.busy": "2025-09-18T03:49:56.597111Z",
     "iopub.status.idle": "2025-09-18T03:49:56.602206Z",
     "shell.execute_reply": "2025-09-18T03:49:56.601531Z"
    },
    "papermill": {
     "duration": 0.012438,
     "end_time": "2025-09-18T03:49:56.603433",
     "exception": false,
     "start_time": "2025-09-18T03:49:56.590995",
     "status": "completed"
    },
    "tags": []
   },
   "outputs": [
    {
     "data": {
      "text/plain": [
       "(2029, 54700)"
      ]
     },
     "execution_count": 9,
     "metadata": {},
     "output_type": "execute_result"
    }
   ],
   "source": [
    "X.shape"
   ]
  },
  {
   "cell_type": "code",
   "execution_count": 10,
   "id": "d9e9a9a5",
   "metadata": {
    "execution": {
     "iopub.execute_input": "2025-09-18T03:49:56.615282Z",
     "iopub.status.busy": "2025-09-18T03:49:56.614422Z",
     "iopub.status.idle": "2025-09-18T03:49:56.619656Z",
     "shell.execute_reply": "2025-09-18T03:49:56.619003Z"
    },
    "papermill": {
     "duration": 0.012266,
     "end_time": "2025-09-18T03:49:56.620918",
     "exception": false,
     "start_time": "2025-09-18T03:49:56.608652",
     "status": "completed"
    },
    "tags": []
   },
   "outputs": [
    {
     "data": {
      "text/plain": [
       "(2029, 10)"
      ]
     },
     "execution_count": 10,
     "metadata": {},
     "output_type": "execute_result"
    }
   ],
   "source": [
    "train_data.shape"
   ]
  },
  {
   "cell_type": "code",
   "execution_count": 11,
   "id": "f958c835",
   "metadata": {
    "execution": {
     "iopub.execute_input": "2025-09-18T03:49:56.631692Z",
     "iopub.status.busy": "2025-09-18T03:49:56.631435Z",
     "iopub.status.idle": "2025-09-18T03:49:56.636674Z",
     "shell.execute_reply": "2025-09-18T03:49:56.636032Z"
    },
    "papermill": {
     "duration": 0.011949,
     "end_time": "2025-09-18T03:49:56.637871",
     "exception": false,
     "start_time": "2025-09-18T03:49:56.625922",
     "status": "completed"
    },
    "tags": []
   },
   "outputs": [
    {
     "data": {
      "text/plain": [
       "array([0., 0., 0., ..., 0., 0., 0.], dtype=float32)"
      ]
     },
     "execution_count": 11,
     "metadata": {},
     "output_type": "execute_result"
    }
   ],
   "source": [
    "X[0]"
   ]
  },
  {
   "cell_type": "code",
   "execution_count": 12,
   "id": "6493f86c",
   "metadata": {
    "execution": {
     "iopub.execute_input": "2025-09-18T03:49:56.649319Z",
     "iopub.status.busy": "2025-09-18T03:49:56.648645Z",
     "iopub.status.idle": "2025-09-18T03:49:56.792355Z",
     "shell.execute_reply": "2025-09-18T03:49:56.791676Z"
    },
    "papermill": {
     "duration": 0.151021,
     "end_time": "2025-09-18T03:49:56.793997",
     "exception": false,
     "start_time": "2025-09-18T03:49:56.642976",
     "status": "completed"
    },
    "tags": []
   },
   "outputs": [],
   "source": [
    "# Train/Validation split\n",
    "X_train, X_val, y_train, y_val = train_test_split(\n",
    "    X, y, test_size=0.2, random_state=42, stratify=y\n",
    ")"
   ]
  },
  {
   "cell_type": "code",
   "execution_count": 13,
   "id": "e78a18a7",
   "metadata": {
    "execution": {
     "iopub.execute_input": "2025-09-18T03:49:56.805662Z",
     "iopub.status.busy": "2025-09-18T03:49:56.804908Z",
     "iopub.status.idle": "2025-09-18T03:50:11.313382Z",
     "shell.execute_reply": "2025-09-18T03:50:11.312502Z"
    },
    "papermill": {
     "duration": 14.515859,
     "end_time": "2025-09-18T03:50:11.315122",
     "exception": false,
     "start_time": "2025-09-18T03:49:56.799263",
     "status": "completed"
    },
    "tags": []
   },
   "outputs": [
    {
     "name": "stderr",
     "output_type": "stream",
     "text": [
      "2025-09-18 03:49:58.354701: E external/local_xla/xla/stream_executor/cuda/cuda_fft.cc:477] Unable to register cuFFT factory: Attempting to register factory for plugin cuFFT when one has already been registered\n",
      "WARNING: All log messages before absl::InitializeLog() is called are written to STDERR\n",
      "E0000 00:00:1758167398.541035      13 cuda_dnn.cc:8310] Unable to register cuDNN factory: Attempting to register factory for plugin cuDNN when one has already been registered\n",
      "E0000 00:00:1758167398.594648      13 cuda_blas.cc:1418] Unable to register cuBLAS factory: Attempting to register factory for plugin cuBLAS when one has already been registered\n"
     ]
    }
   ],
   "source": [
    "from tensorflow import keras\n",
    "from tensorflow.keras import layers"
   ]
  },
  {
   "cell_type": "code",
   "execution_count": 14,
   "id": "e71dcb8d",
   "metadata": {
    "execution": {
     "iopub.execute_input": "2025-09-18T03:50:11.327582Z",
     "iopub.status.busy": "2025-09-18T03:50:11.326695Z",
     "iopub.status.idle": "2025-09-18T03:50:11.444701Z",
     "shell.execute_reply": "2025-09-18T03:50:11.443799Z"
    },
    "papermill": {
     "duration": 0.125429,
     "end_time": "2025-09-18T03:50:11.446127",
     "exception": false,
     "start_time": "2025-09-18T03:50:11.320698",
     "status": "completed"
    },
    "tags": []
   },
   "outputs": [
    {
     "name": "stderr",
     "output_type": "stream",
     "text": [
      "/usr/local/lib/python3.11/dist-packages/keras/src/layers/core/dense.py:87: UserWarning: Do not pass an `input_shape`/`input_dim` argument to a layer. When using Sequential models, prefer using an `Input(shape)` object as the first layer in the model instead.\n",
      "  super().__init__(activity_regularizer=activity_regularizer, **kwargs)\n",
      "2025-09-18 03:50:11.336524: E external/local_xla/xla/stream_executor/cuda/cuda_driver.cc:152] failed call to cuInit: INTERNAL: CUDA error: Failed call to cuInit: UNKNOWN ERROR (303)\n"
     ]
    }
   ],
   "source": [
    "model = keras.Sequential([\n",
    "    layers.Dense(32, activation='relu', input_shape=(X.shape[1],)),\n",
    "    layers.BatchNormalization(),\n",
    "    layers.Dropout(0.3),\n",
    "    layers.Dense(32, activation='relu'),\n",
    "    layers.BatchNormalization(),\n",
    "    layers.Dropout(0.3),\n",
    "    layers.Dense(1, activation = 'sigmoid')\n",
    "])"
   ]
  },
  {
   "cell_type": "code",
   "execution_count": 15,
   "id": "19d6c9de",
   "metadata": {
    "execution": {
     "iopub.execute_input": "2025-09-18T03:50:11.457981Z",
     "iopub.status.busy": "2025-09-18T03:50:11.457278Z",
     "iopub.status.idle": "2025-09-18T03:50:11.470471Z",
     "shell.execute_reply": "2025-09-18T03:50:11.469829Z"
    },
    "papermill": {
     "duration": 0.020429,
     "end_time": "2025-09-18T03:50:11.471807",
     "exception": false,
     "start_time": "2025-09-18T03:50:11.451378",
     "status": "completed"
    },
    "tags": []
   },
   "outputs": [],
   "source": [
    "model.compile(\n",
    "    optimizer = \"adam\",\n",
    "    loss = 'binary_crossentropy',\n",
    "    metrics = ['accuracy'],\n",
    ")"
   ]
  },
  {
   "cell_type": "code",
   "execution_count": 16,
   "id": "8731a6e6",
   "metadata": {
    "execution": {
     "iopub.execute_input": "2025-09-18T03:50:11.483477Z",
     "iopub.status.busy": "2025-09-18T03:50:11.483135Z",
     "iopub.status.idle": "2025-09-18T03:50:11.489911Z",
     "shell.execute_reply": "2025-09-18T03:50:11.489103Z"
    },
    "papermill": {
     "duration": 0.014254,
     "end_time": "2025-09-18T03:50:11.491332",
     "exception": false,
     "start_time": "2025-09-18T03:50:11.477078",
     "status": "completed"
    },
    "tags": []
   },
   "outputs": [],
   "source": [
    "from tensorflow.keras.callbacks import EarlyStopping\n",
    "early_stopping = EarlyStopping(\n",
    "    monitor = 'val_loss',\n",
    "    patience = 10,\n",
    "    restore_best_weights = True,\n",
    ")"
   ]
  },
  {
   "cell_type": "code",
   "execution_count": 17,
   "id": "4f461822",
   "metadata": {
    "execution": {
     "iopub.execute_input": "2025-09-18T03:50:11.503225Z",
     "iopub.status.busy": "2025-09-18T03:50:11.502500Z",
     "iopub.status.idle": "2025-09-18T03:50:25.712533Z",
     "shell.execute_reply": "2025-09-18T03:50:25.711726Z"
    },
    "papermill": {
     "duration": 14.217253,
     "end_time": "2025-09-18T03:50:25.713835",
     "exception": false,
     "start_time": "2025-09-18T03:50:11.496582",
     "status": "completed"
    },
    "tags": []
   },
   "outputs": [
    {
     "name": "stdout",
     "output_type": "stream",
     "text": [
      "Epoch 1/15\n",
      "\u001b[1m51/51\u001b[0m \u001b[32m━━━━━━━━━━━━━━━━━━━━\u001b[0m\u001b[37m\u001b[0m \u001b[1m5s\u001b[0m 27ms/step - accuracy: 0.5193 - loss: 0.9694 - val_accuracy: 0.5369 - val_loss: 0.6932\n",
      "Epoch 2/15\n",
      "\u001b[1m51/51\u001b[0m \u001b[32m━━━━━━━━━━━━━━━━━━━━\u001b[0m\u001b[37m\u001b[0m \u001b[1m1s\u001b[0m 18ms/step - accuracy: 0.6513 - loss: 0.6490 - val_accuracy: 0.5049 - val_loss: 0.6945\n",
      "Epoch 3/15\n",
      "\u001b[1m51/51\u001b[0m \u001b[32m━━━━━━━━━━━━━━━━━━━━\u001b[0m\u001b[37m\u001b[0m \u001b[1m1s\u001b[0m 16ms/step - accuracy: 0.7760 - loss: 0.4944 - val_accuracy: 0.5049 - val_loss: 0.6985\n",
      "Epoch 4/15\n",
      "\u001b[1m51/51\u001b[0m \u001b[32m━━━━━━━━━━━━━━━━━━━━\u001b[0m\u001b[37m\u001b[0m \u001b[1m1s\u001b[0m 17ms/step - accuracy: 0.7937 - loss: 0.4469 - val_accuracy: 0.5074 - val_loss: 0.7035\n",
      "Epoch 5/15\n",
      "\u001b[1m51/51\u001b[0m \u001b[32m━━━━━━━━━━━━━━━━━━━━\u001b[0m\u001b[37m\u001b[0m \u001b[1m1s\u001b[0m 16ms/step - accuracy: 0.8736 - loss: 0.3195 - val_accuracy: 0.5222 - val_loss: 0.7129\n",
      "Epoch 6/15\n",
      "\u001b[1m51/51\u001b[0m \u001b[32m━━━━━━━━━━━━━━━━━━━━\u001b[0m\u001b[37m\u001b[0m \u001b[1m1s\u001b[0m 17ms/step - accuracy: 0.8936 - loss: 0.2661 - val_accuracy: 0.5493 - val_loss: 0.7165\n",
      "Epoch 7/15\n",
      "\u001b[1m51/51\u001b[0m \u001b[32m━━━━━━━━━━━━━━━━━━━━\u001b[0m\u001b[37m\u001b[0m \u001b[1m1s\u001b[0m 16ms/step - accuracy: 0.9340 - loss: 0.2019 - val_accuracy: 0.5542 - val_loss: 0.7288\n",
      "Epoch 8/15\n",
      "\u001b[1m51/51\u001b[0m \u001b[32m━━━━━━━━━━━━━━━━━━━━\u001b[0m\u001b[37m\u001b[0m \u001b[1m1s\u001b[0m 17ms/step - accuracy: 0.9422 - loss: 0.1777 - val_accuracy: 0.5419 - val_loss: 0.7588\n",
      "Epoch 9/15\n",
      "\u001b[1m51/51\u001b[0m \u001b[32m━━━━━━━━━━━━━━━━━━━━\u001b[0m\u001b[37m\u001b[0m \u001b[1m1s\u001b[0m 16ms/step - accuracy: 0.9468 - loss: 0.1490 - val_accuracy: 0.5443 - val_loss: 0.7856\n",
      "Epoch 10/15\n",
      "\u001b[1m51/51\u001b[0m \u001b[32m━━━━━━━━━━━━━━━━━━━━\u001b[0m\u001b[37m\u001b[0m \u001b[1m1s\u001b[0m 17ms/step - accuracy: 0.9650 - loss: 0.1183 - val_accuracy: 0.5517 - val_loss: 0.8635\n",
      "Epoch 11/15\n",
      "\u001b[1m51/51\u001b[0m \u001b[32m━━━━━━━━━━━━━━━━━━━━\u001b[0m\u001b[37m\u001b[0m \u001b[1m1s\u001b[0m 16ms/step - accuracy: 0.9656 - loss: 0.1002 - val_accuracy: 0.5616 - val_loss: 0.9331\n"
     ]
    },
    {
     "data": {
      "text/plain": [
       "<keras.src.callbacks.history.History at 0x7d82fcdd1a90>"
      ]
     },
     "execution_count": 17,
     "metadata": {},
     "output_type": "execute_result"
    }
   ],
   "source": [
    "model.fit(\n",
    "    X_train, y_train,\n",
    "    validation_data = (X_val, y_val),\n",
    "    epochs = 15,\n",
    "    callbacks = [early_stopping],\n",
    "    verbose =1\n",
    ")"
   ]
  },
  {
   "cell_type": "code",
   "execution_count": 18,
   "id": "1beaccaf",
   "metadata": {
    "execution": {
     "iopub.execute_input": "2025-09-18T03:50:25.742214Z",
     "iopub.status.busy": "2025-09-18T03:50:25.741880Z",
     "iopub.status.idle": "2025-09-18T03:50:25.747205Z",
     "shell.execute_reply": "2025-09-18T03:50:25.746512Z"
    },
    "papermill": {
     "duration": 0.020722,
     "end_time": "2025-09-18T03:50:25.748610",
     "exception": false,
     "start_time": "2025-09-18T03:50:25.727888",
     "status": "completed"
    },
    "tags": []
   },
   "outputs": [
    {
     "data": {
      "text/plain": [
       "(10, 54700)"
      ]
     },
     "execution_count": 18,
     "metadata": {},
     "output_type": "execute_result"
    }
   ],
   "source": [
    "X_test.shape"
   ]
  },
  {
   "cell_type": "code",
   "execution_count": 19,
   "id": "96047f74",
   "metadata": {
    "execution": {
     "iopub.execute_input": "2025-09-18T03:50:25.776968Z",
     "iopub.status.busy": "2025-09-18T03:50:25.776220Z",
     "iopub.status.idle": "2025-09-18T03:50:25.965725Z",
     "shell.execute_reply": "2025-09-18T03:50:25.964977Z"
    },
    "papermill": {
     "duration": 0.205057,
     "end_time": "2025-09-18T03:50:25.967074",
     "exception": false,
     "start_time": "2025-09-18T03:50:25.762017",
     "status": "completed"
    },
    "tags": []
   },
   "outputs": [
    {
     "name": "stdout",
     "output_type": "stream",
     "text": [
      "\u001b[1m1/1\u001b[0m \u001b[32m━━━━━━━━━━━━━━━━━━━━\u001b[0m\u001b[37m\u001b[0m \u001b[1m0s\u001b[0m 122ms/step\n"
     ]
    },
    {
     "data": {
      "text/plain": [
       "array([[0.4941574 ],\n",
       "       [0.4974817 ],\n",
       "       [0.49374157],\n",
       "       [0.5062096 ],\n",
       "       [0.49506736],\n",
       "       [0.4896153 ],\n",
       "       [0.5007875 ],\n",
       "       [0.5027392 ],\n",
       "       [0.49291176],\n",
       "       [0.5009176 ]], dtype=float32)"
      ]
     },
     "execution_count": 19,
     "metadata": {},
     "output_type": "execute_result"
    }
   ],
   "source": [
    "pred = model.predict(X_test)\n",
    "pred"
   ]
  },
  {
   "cell_type": "code",
   "execution_count": 20,
   "id": "72d1879b",
   "metadata": {
    "execution": {
     "iopub.execute_input": "2025-09-18T03:50:25.995633Z",
     "iopub.status.busy": "2025-09-18T03:50:25.994857Z",
     "iopub.status.idle": "2025-09-18T03:50:25.999114Z",
     "shell.execute_reply": "2025-09-18T03:50:25.998321Z"
    },
    "papermill": {
     "duration": 0.019799,
     "end_time": "2025-09-18T03:50:26.000538",
     "exception": false,
     "start_time": "2025-09-18T03:50:25.980739",
     "status": "completed"
    },
    "tags": []
   },
   "outputs": [],
   "source": [
    "pred_new = (pred> 0.5).astype(int)"
   ]
  },
  {
   "cell_type": "code",
   "execution_count": 21,
   "id": "a01b7ae7",
   "metadata": {
    "execution": {
     "iopub.execute_input": "2025-09-18T03:50:26.030994Z",
     "iopub.status.busy": "2025-09-18T03:50:26.030273Z",
     "iopub.status.idle": "2025-09-18T03:50:26.037888Z",
     "shell.execute_reply": "2025-09-18T03:50:26.037077Z"
    },
    "papermill": {
     "duration": 0.023663,
     "end_time": "2025-09-18T03:50:26.039282",
     "exception": false,
     "start_time": "2025-09-18T03:50:26.015619",
     "status": "completed"
    },
    "tags": []
   },
   "outputs": [],
   "source": [
    "output = pd.DataFrame(columns = ['row_id', 'rule_violation'])\n",
    "output['row_id'] = test_data['row_id']\n",
    "output['rule_violation'] =pred_new"
   ]
  },
  {
   "cell_type": "code",
   "execution_count": 22,
   "id": "2f690ba9",
   "metadata": {
    "execution": {
     "iopub.execute_input": "2025-09-18T03:50:26.068026Z",
     "iopub.status.busy": "2025-09-18T03:50:26.067357Z",
     "iopub.status.idle": "2025-09-18T03:50:26.074899Z",
     "shell.execute_reply": "2025-09-18T03:50:26.074094Z"
    },
    "papermill": {
     "duration": 0.023301,
     "end_time": "2025-09-18T03:50:26.076233",
     "exception": false,
     "start_time": "2025-09-18T03:50:26.052932",
     "status": "completed"
    },
    "tags": []
   },
   "outputs": [
    {
     "data": {
      "text/html": [
       "<div>\n",
       "<style scoped>\n",
       "    .dataframe tbody tr th:only-of-type {\n",
       "        vertical-align: middle;\n",
       "    }\n",
       "\n",
       "    .dataframe tbody tr th {\n",
       "        vertical-align: top;\n",
       "    }\n",
       "\n",
       "    .dataframe thead th {\n",
       "        text-align: right;\n",
       "    }\n",
       "</style>\n",
       "<table border=\"1\" class=\"dataframe\">\n",
       "  <thead>\n",
       "    <tr style=\"text-align: right;\">\n",
       "      <th></th>\n",
       "      <th>row_id</th>\n",
       "      <th>rule_violation</th>\n",
       "    </tr>\n",
       "  </thead>\n",
       "  <tbody>\n",
       "    <tr>\n",
       "      <th>0</th>\n",
       "      <td>2029</td>\n",
       "      <td>0</td>\n",
       "    </tr>\n",
       "    <tr>\n",
       "      <th>1</th>\n",
       "      <td>2030</td>\n",
       "      <td>0</td>\n",
       "    </tr>\n",
       "    <tr>\n",
       "      <th>2</th>\n",
       "      <td>2031</td>\n",
       "      <td>0</td>\n",
       "    </tr>\n",
       "    <tr>\n",
       "      <th>3</th>\n",
       "      <td>2032</td>\n",
       "      <td>1</td>\n",
       "    </tr>\n",
       "    <tr>\n",
       "      <th>4</th>\n",
       "      <td>2033</td>\n",
       "      <td>0</td>\n",
       "    </tr>\n",
       "  </tbody>\n",
       "</table>\n",
       "</div>"
      ],
      "text/plain": [
       "   row_id  rule_violation\n",
       "0    2029               0\n",
       "1    2030               0\n",
       "2    2031               0\n",
       "3    2032               1\n",
       "4    2033               0"
      ]
     },
     "execution_count": 22,
     "metadata": {},
     "output_type": "execute_result"
    }
   ],
   "source": [
    "output.head()"
   ]
  },
  {
   "cell_type": "code",
   "execution_count": 23,
   "id": "72736bed",
   "metadata": {
    "execution": {
     "iopub.execute_input": "2025-09-18T03:50:26.105514Z",
     "iopub.status.busy": "2025-09-18T03:50:26.104877Z",
     "iopub.status.idle": "2025-09-18T03:50:26.119815Z",
     "shell.execute_reply": "2025-09-18T03:50:26.118936Z"
    },
    "papermill": {
     "duration": 0.030892,
     "end_time": "2025-09-18T03:50:26.121244",
     "exception": false,
     "start_time": "2025-09-18T03:50:26.090352",
     "status": "completed"
    },
    "tags": []
   },
   "outputs": [
    {
     "data": {
      "text/html": [
       "<div>\n",
       "<style scoped>\n",
       "    .dataframe tbody tr th:only-of-type {\n",
       "        vertical-align: middle;\n",
       "    }\n",
       "\n",
       "    .dataframe tbody tr th {\n",
       "        vertical-align: top;\n",
       "    }\n",
       "\n",
       "    .dataframe thead th {\n",
       "        text-align: right;\n",
       "    }\n",
       "</style>\n",
       "<table border=\"1\" class=\"dataframe\">\n",
       "  <thead>\n",
       "    <tr style=\"text-align: right;\">\n",
       "      <th></th>\n",
       "      <th>row_id</th>\n",
       "      <th>rule_violation</th>\n",
       "    </tr>\n",
       "  </thead>\n",
       "  <tbody>\n",
       "    <tr>\n",
       "      <th>count</th>\n",
       "      <td>10.00000</td>\n",
       "      <td>10.000000</td>\n",
       "    </tr>\n",
       "    <tr>\n",
       "      <th>mean</th>\n",
       "      <td>2033.50000</td>\n",
       "      <td>0.400000</td>\n",
       "    </tr>\n",
       "    <tr>\n",
       "      <th>std</th>\n",
       "      <td>3.02765</td>\n",
       "      <td>0.516398</td>\n",
       "    </tr>\n",
       "    <tr>\n",
       "      <th>min</th>\n",
       "      <td>2029.00000</td>\n",
       "      <td>0.000000</td>\n",
       "    </tr>\n",
       "    <tr>\n",
       "      <th>25%</th>\n",
       "      <td>2031.25000</td>\n",
       "      <td>0.000000</td>\n",
       "    </tr>\n",
       "    <tr>\n",
       "      <th>50%</th>\n",
       "      <td>2033.50000</td>\n",
       "      <td>0.000000</td>\n",
       "    </tr>\n",
       "    <tr>\n",
       "      <th>75%</th>\n",
       "      <td>2035.75000</td>\n",
       "      <td>1.000000</td>\n",
       "    </tr>\n",
       "    <tr>\n",
       "      <th>max</th>\n",
       "      <td>2038.00000</td>\n",
       "      <td>1.000000</td>\n",
       "    </tr>\n",
       "  </tbody>\n",
       "</table>\n",
       "</div>"
      ],
      "text/plain": [
       "           row_id  rule_violation\n",
       "count    10.00000       10.000000\n",
       "mean   2033.50000        0.400000\n",
       "std       3.02765        0.516398\n",
       "min    2029.00000        0.000000\n",
       "25%    2031.25000        0.000000\n",
       "50%    2033.50000        0.000000\n",
       "75%    2035.75000        1.000000\n",
       "max    2038.00000        1.000000"
      ]
     },
     "execution_count": 23,
     "metadata": {},
     "output_type": "execute_result"
    }
   ],
   "source": [
    "output.describe()"
   ]
  },
  {
   "cell_type": "code",
   "execution_count": 24,
   "id": "cecfb47b",
   "metadata": {
    "execution": {
     "iopub.execute_input": "2025-09-18T03:50:26.150902Z",
     "iopub.status.busy": "2025-09-18T03:50:26.150079Z",
     "iopub.status.idle": "2025-09-18T03:50:26.159768Z",
     "shell.execute_reply": "2025-09-18T03:50:26.158930Z"
    },
    "papermill": {
     "duration": 0.02596,
     "end_time": "2025-09-18T03:50:26.161278",
     "exception": false,
     "start_time": "2025-09-18T03:50:26.135318",
     "status": "completed"
    },
    "tags": []
   },
   "outputs": [],
   "source": [
    "output.to_csv(\"submission.csv\", index = False)"
   ]
  },
  {
   "cell_type": "code",
   "execution_count": null,
   "id": "b3e3e304",
   "metadata": {
    "papermill": {
     "duration": 0.013499,
     "end_time": "2025-09-18T03:50:26.188789",
     "exception": false,
     "start_time": "2025-09-18T03:50:26.175290",
     "status": "completed"
    },
    "tags": []
   },
   "outputs": [],
   "source": []
  }
 ],
 "metadata": {
  "kaggle": {
   "accelerator": "none",
   "dataSources": [
    {
     "databundleVersionId": 13121456,
     "sourceId": 94635,
     "sourceType": "competition"
    }
   ],
   "dockerImageVersionId": 31089,
   "isGpuEnabled": false,
   "isInternetEnabled": false,
   "language": "python",
   "sourceType": "notebook"
  },
  "kernelspec": {
   "display_name": "Python 3",
   "language": "python",
   "name": "python3"
  },
  "language_info": {
   "codemirror_mode": {
    "name": "ipython",
    "version": 3
   },
   "file_extension": ".py",
   "mimetype": "text/x-python",
   "name": "python",
   "nbconvert_exporter": "python",
   "pygments_lexer": "ipython3",
   "version": "3.11.13"
  },
  "papermill": {
   "default_parameters": {},
   "duration": 43.526679,
   "end_time": "2025-09-18T03:50:29.627009",
   "environment_variables": {},
   "exception": null,
   "input_path": "__notebook__.ipynb",
   "output_path": "__notebook__.ipynb",
   "parameters": {},
   "start_time": "2025-09-18T03:49:46.100330",
   "version": "2.6.0"
  }
 },
 "nbformat": 4,
 "nbformat_minor": 5
}
