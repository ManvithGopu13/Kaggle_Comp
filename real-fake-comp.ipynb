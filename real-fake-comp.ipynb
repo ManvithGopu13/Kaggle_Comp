{
 "cells": [
  {
   "cell_type": "code",
   "execution_count": 1,
   "id": "6d0f0a0b",
   "metadata": {
    "_cell_guid": "b1076dfc-b9ad-4769-8c92-a6c4dae69d19",
    "_uuid": "8f2839f25d086af736a60e9eeb907d3b93b6e0e5",
    "execution": {
     "iopub.execute_input": "2025-09-19T05:51:05.846946Z",
     "iopub.status.busy": "2025-09-19T05:51:05.846637Z",
     "iopub.status.idle": "2025-09-19T05:51:07.618893Z",
     "shell.execute_reply": "2025-09-19T05:51:07.618042Z"
    },
    "papermill": {
     "duration": 1.781669,
     "end_time": "2025-09-19T05:51:07.620477",
     "exception": false,
     "start_time": "2025-09-19T05:51:05.838808",
     "status": "completed"
    },
    "tags": []
   },
   "outputs": [],
   "source": [
    "# This Python 3 environment comes with many helpful analytics libraries installed\n",
    "# It is defined by the kaggle/python Docker image: https://github.com/kaggle/docker-python\n",
    "# For example, here's several helpful packages to load\n",
    "\n",
    "import numpy as np # linear algebra\n",
    "import pandas as pd # data processing, CSV file I/O (e.g. pd.read_csv)\n",
    "\n",
    "# Input data files are available in the read-only \"../input/\" directory\n",
    "# For example, running this (by clicking run or pressing Shift+Enter) will list all files under the input directory\n",
    "\n",
    "import os\n",
    "# for dirname, _, filenames in os.walk('/kaggle/input'):\n",
    "#     for filename in filenames:\n",
    "#         print(os.path.join(dirname, filename))\n",
    "\n",
    "# You can write up to 20GB to the current directory (/kaggle/working/) that gets preserved as output when you create a version using \"Save & Run All\" \n",
    "# You can also write temporary files to /kaggle/temp/, but they won't be saved outside of the current session"
   ]
  },
  {
   "cell_type": "code",
   "execution_count": 2,
   "id": "1ba83fa5",
   "metadata": {
    "execution": {
     "iopub.execute_input": "2025-09-19T05:51:07.631561Z",
     "iopub.status.busy": "2025-09-19T05:51:07.630777Z",
     "iopub.status.idle": "2025-09-19T05:51:07.668638Z",
     "shell.execute_reply": "2025-09-19T05:51:07.667773Z"
    },
    "papermill": {
     "duration": 0.04441,
     "end_time": "2025-09-19T05:51:07.670064",
     "exception": false,
     "start_time": "2025-09-19T05:51:07.625654",
     "status": "completed"
    },
    "tags": []
   },
   "outputs": [
    {
     "data": {
      "text/html": [
       "<div>\n",
       "<style scoped>\n",
       "    .dataframe tbody tr th:only-of-type {\n",
       "        vertical-align: middle;\n",
       "    }\n",
       "\n",
       "    .dataframe tbody tr th {\n",
       "        vertical-align: top;\n",
       "    }\n",
       "\n",
       "    .dataframe thead th {\n",
       "        text-align: right;\n",
       "    }\n",
       "</style>\n",
       "<table border=\"1\" class=\"dataframe\">\n",
       "  <thead>\n",
       "    <tr style=\"text-align: right;\">\n",
       "      <th></th>\n",
       "      <th>id</th>\n",
       "      <th>real_text_id</th>\n",
       "    </tr>\n",
       "  </thead>\n",
       "  <tbody>\n",
       "    <tr>\n",
       "      <th>0</th>\n",
       "      <td>0</td>\n",
       "      <td>1</td>\n",
       "    </tr>\n",
       "    <tr>\n",
       "      <th>1</th>\n",
       "      <td>1</td>\n",
       "      <td>2</td>\n",
       "    </tr>\n",
       "    <tr>\n",
       "      <th>2</th>\n",
       "      <td>2</td>\n",
       "      <td>1</td>\n",
       "    </tr>\n",
       "    <tr>\n",
       "      <th>3</th>\n",
       "      <td>3</td>\n",
       "      <td>2</td>\n",
       "    </tr>\n",
       "    <tr>\n",
       "      <th>4</th>\n",
       "      <td>4</td>\n",
       "      <td>2</td>\n",
       "    </tr>\n",
       "  </tbody>\n",
       "</table>\n",
       "</div>"
      ],
      "text/plain": [
       "   id  real_text_id\n",
       "0   0             1\n",
       "1   1             2\n",
       "2   2             1\n",
       "3   3             2\n",
       "4   4             2"
      ]
     },
     "execution_count": 2,
     "metadata": {},
     "output_type": "execute_result"
    }
   ],
   "source": [
    "train_data = pd.read_csv(\"/kaggle/input/fake-or-real-the-impostor-hunt/data/train.csv\")\n",
    "train_data.head()"
   ]
  },
  {
   "cell_type": "code",
   "execution_count": 3,
   "id": "1503efdd",
   "metadata": {
    "execution": {
     "iopub.execute_input": "2025-09-19T05:51:07.680320Z",
     "iopub.status.busy": "2025-09-19T05:51:07.679675Z",
     "iopub.status.idle": "2025-09-19T05:51:09.271814Z",
     "shell.execute_reply": "2025-09-19T05:51:09.271109Z"
    },
    "papermill": {
     "duration": 1.598811,
     "end_time": "2025-09-19T05:51:09.273341",
     "exception": false,
     "start_time": "2025-09-19T05:51:07.674530",
     "status": "completed"
    },
    "tags": []
   },
   "outputs": [],
   "source": [
    "\n",
    "import os\n",
    "import re\n",
    "import glob\n",
    "import gc\n",
    "import numpy as np\n",
    "import pandas as pd\n",
    "\n",
    "from pathlib import Path\n",
    "from sklearn.feature_extraction.text import TfidfVectorizer\n",
    "from sklearn.pipeline import FeatureUnion\n",
    "from sklearn.svm import LinearSVC\n",
    "from sklearn.model_selection import GroupKFold\n",
    "from sklearn.metrics import accuracy_score\n",
    "from sklearn.base import BaseEstimator, TransformerMixin\n"
   ]
  },
  {
   "cell_type": "code",
   "execution_count": 4,
   "id": "c93e4105",
   "metadata": {
    "execution": {
     "iopub.execute_input": "2025-09-19T05:51:09.283725Z",
     "iopub.status.busy": "2025-09-19T05:51:09.282978Z",
     "iopub.status.idle": "2025-09-19T05:51:09.287350Z",
     "shell.execute_reply": "2025-09-19T05:51:09.286690Z"
    },
    "papermill": {
     "duration": 0.010794,
     "end_time": "2025-09-19T05:51:09.288657",
     "exception": false,
     "start_time": "2025-09-19T05:51:09.277863",
     "status": "completed"
    },
    "tags": []
   },
   "outputs": [],
   "source": [
    "\n",
    "DATA_ROOT = Path(\"/kaggle/input/fake-or-real-the-impostor-hunt\")\n",
    "TRAIN_DIR = DATA_ROOT / \"data\" / \"train\"\n",
    "TEST_DIR  = DATA_ROOT / \"data\" / \"test\"\n",
    "OUTPUT_PATH = Path(\"/kaggle/working/submission.csv\")\n"
   ]
  },
  {
   "cell_type": "code",
   "execution_count": 5,
   "id": "53504474",
   "metadata": {
    "execution": {
     "iopub.execute_input": "2025-09-19T05:51:09.298478Z",
     "iopub.status.busy": "2025-09-19T05:51:09.298198Z",
     "iopub.status.idle": "2025-09-19T05:51:09.304048Z",
     "shell.execute_reply": "2025-09-19T05:51:09.303372Z"
    },
    "papermill": {
     "duration": 0.012313,
     "end_time": "2025-09-19T05:51:09.305386",
     "exception": false,
     "start_time": "2025-09-19T05:51:09.293073",
     "status": "completed"
    },
    "tags": []
   },
   "outputs": [],
   "source": [
    "\n",
    "def find_labels_csv(root: Path):\n",
    "    \"\"\"\n",
    "    Recursively search for a CSV file that contains columns ['id', 'real_text_id'].\n",
    "    Returns the first match as a DataFrame.\n",
    "    \"\"\"\n",
    "    candidates = list(root.rglob(\"*.csv\"))\n",
    "    for c in candidates:\n",
    "        try:\n",
    "            df = pd.read_csv(c)\n",
    "            cols = {col.lower() for col in df.columns}\n",
    "            if 'id' in cols and 'real_text_id' in cols:\n",
    "                print(f\"[Info] Using labels file: {c}\")\n",
    "                # Normalize column names just in case\n",
    "                df = df.rename(columns={col: col.lower() for col in df.columns})\n",
    "                return df\n",
    "        except Exception:\n",
    "            continue\n",
    "    raise FileNotFoundError(\"No CSV with columns ['id', 'real_text_id'] found under dataset root.\")\n"
   ]
  },
  {
   "cell_type": "code",
   "execution_count": 6,
   "id": "221e4c75",
   "metadata": {
    "execution": {
     "iopub.execute_input": "2025-09-19T05:51:09.315014Z",
     "iopub.status.busy": "2025-09-19T05:51:09.314610Z",
     "iopub.status.idle": "2025-09-19T05:51:09.318826Z",
     "shell.execute_reply": "2025-09-19T05:51:09.318179Z"
    },
    "papermill": {
     "duration": 0.010418,
     "end_time": "2025-09-19T05:51:09.320120",
     "exception": false,
     "start_time": "2025-09-19T05:51:09.309702",
     "status": "completed"
    },
    "tags": []
   },
   "outputs": [],
   "source": [
    "\n",
    "def extract_article_id(article_dir_name: str) -> int:\n",
    "    \"\"\"\n",
    "    'article_0000' -> 0\n",
    "    \"\"\"\n",
    "    m = re.search(r'(\\d+)$', article_dir_name)\n",
    "    if not m:\n",
    "        raise ValueError(f\"Could not parse integer id from directory name: {article_dir_name}\")\n",
    "    return int(m.group(1))\n"
   ]
  },
  {
   "cell_type": "code",
   "execution_count": 7,
   "id": "cb223cb8",
   "metadata": {
    "execution": {
     "iopub.execute_input": "2025-09-19T05:51:09.329693Z",
     "iopub.status.busy": "2025-09-19T05:51:09.329422Z",
     "iopub.status.idle": "2025-09-19T05:51:09.333679Z",
     "shell.execute_reply": "2025-09-19T05:51:09.333044Z"
    },
    "papermill": {
     "duration": 0.010388,
     "end_time": "2025-09-19T05:51:09.334854",
     "exception": false,
     "start_time": "2025-09-19T05:51:09.324466",
     "status": "completed"
    },
    "tags": []
   },
   "outputs": [],
   "source": [
    "\n",
    "def read_text_file(path: Path) -> str:\n",
    "    with open(path, 'r', encoding='utf-8', errors='ignore') as f:\n",
    "        t = f.read()\n",
    "    # Minimal normalization\n",
    "    t = t.replace(\"\\r\\n\", \"\\n\").replace(\"\\r\", \"\\n\")\n",
    "    return t\n"
   ]
  },
  {
   "cell_type": "code",
   "execution_count": 8,
   "id": "df0f00cc",
   "metadata": {
    "execution": {
     "iopub.execute_input": "2025-09-19T05:51:09.345293Z",
     "iopub.status.busy": "2025-09-19T05:51:09.344983Z",
     "iopub.status.idle": "2025-09-19T05:51:09.351253Z",
     "shell.execute_reply": "2025-09-19T05:51:09.350529Z"
    },
    "papermill": {
     "duration": 0.013396,
     "end_time": "2025-09-19T05:51:09.352578",
     "exception": false,
     "start_time": "2025-09-19T05:51:09.339182",
     "status": "completed"
    },
    "tags": []
   },
   "outputs": [],
   "source": [
    "\n",
    "def load_articles_as_rows(split_dir: Path) -> pd.DataFrame:\n",
    "    \"\"\"\n",
    "    Returns DataFrame with columns: id (int), file_id (1 or 2), text (str)\n",
    "    \"\"\"\n",
    "    rows = []\n",
    "    article_dirs = sorted([p for p in split_dir.iterdir() if p.is_dir()])\n",
    "    if not article_dirs:\n",
    "        raise FileNotFoundError(f\"No article directories found under: {split_dir}\")\n",
    "\n",
    "    for art_dir in article_dirs:\n",
    "        art_id = extract_article_id(art_dir.name)\n",
    "        for file_id in [1, 2]:\n",
    "            txt_path = art_dir / f\"file_{file_id}.txt\"\n",
    "            if not txt_path.exists():\n",
    "                raise FileNotFoundError(f\"Missing file: {txt_path}\")\n",
    "            text = read_text_file(txt_path)\n",
    "            rows.append({\"id\": art_id, \"file_id\": file_id, \"text\": text})\n",
    "    return pd.DataFrame(rows).sort_values(by=[\"id\", \"file_id\"]).reset_index(drop=True)\n"
   ]
  },
  {
   "cell_type": "code",
   "execution_count": 9,
   "id": "3b14331d",
   "metadata": {
    "execution": {
     "iopub.execute_input": "2025-09-19T05:51:09.362337Z",
     "iopub.status.busy": "2025-09-19T05:51:09.362055Z",
     "iopub.status.idle": "2025-09-19T05:51:09.367199Z",
     "shell.execute_reply": "2025-09-19T05:51:09.366404Z"
    },
    "papermill": {
     "duration": 0.011481,
     "end_time": "2025-09-19T05:51:09.368513",
     "exception": false,
     "start_time": "2025-09-19T05:51:09.357032",
     "status": "completed"
    },
    "tags": []
   },
   "outputs": [],
   "source": [
    "\n",
    "def build_training_df(train_dir: Path, labels_df: pd.DataFrame) -> pd.DataFrame:\n",
    "    texts_df = load_articles_as_rows(train_dir)\n",
    "    # Merge labels\n",
    "    df = texts_df.merge(labels_df[['id','real_text_id']], on='id', how='left')\n",
    "    if df['real_text_id'].isna().any():\n",
    "        n_missing = df['real_text_id'].isna().sum()\n",
    "        raise ValueError(f\"Labels missing for {n_missing} articles. Check labels CSV.\")\n",
    "    df['label'] = (df['file_id'] == df['real_text_id']).astype(int)\n",
    "    return df[['id','file_id','text','label']]\n"
   ]
  },
  {
   "cell_type": "code",
   "execution_count": 10,
   "id": "2b68db6c",
   "metadata": {
    "execution": {
     "iopub.execute_input": "2025-09-19T05:51:09.378468Z",
     "iopub.status.busy": "2025-09-19T05:51:09.378207Z",
     "iopub.status.idle": "2025-09-19T05:51:09.382768Z",
     "shell.execute_reply": "2025-09-19T05:51:09.382091Z"
    },
    "papermill": {
     "duration": 0.010918,
     "end_time": "2025-09-19T05:51:09.384022",
     "exception": false,
     "start_time": "2025-09-19T05:51:09.373104",
     "status": "completed"
    },
    "tags": []
   },
   "outputs": [],
   "source": [
    "\n",
    "def pairwise_accuracy_from_scores(df_scores: pd.DataFrame) -> float:\n",
    "    \"\"\"\n",
    "    df_scores: columns ['id', 'file_id', 'score', 'real_text_id']\n",
    "    Pick file with higher score per id as predicted real_text_id, compare to real.\n",
    "    \"\"\"\n",
    "    # Choose file with higher score per article id\n",
    "    chosen = df_scores.sort_values(by=['id','score'], ascending=[True, False]).groupby('id', as_index=False).first()\n",
    "    acc = (chosen['file_id'] == chosen['real_text_id']).mean()\n",
    "    return acc\n"
   ]
  },
  {
   "cell_type": "code",
   "execution_count": 11,
   "id": "cdc49406",
   "metadata": {
    "execution": {
     "iopub.execute_input": "2025-09-19T05:51:09.393442Z",
     "iopub.status.busy": "2025-09-19T05:51:09.393176Z",
     "iopub.status.idle": "2025-09-19T05:51:09.397444Z",
     "shell.execute_reply": "2025-09-19T05:51:09.396814Z"
    },
    "papermill": {
     "duration": 0.010376,
     "end_time": "2025-09-19T05:51:09.398673",
     "exception": false,
     "start_time": "2025-09-19T05:51:09.388297",
     "status": "completed"
    },
    "tags": []
   },
   "outputs": [],
   "source": [
    "\n",
    "word_tfidf = TfidfVectorizer(\n",
    "    lowercase=True,\n",
    "    strip_accents='unicode',\n",
    "    analyzer='word',\n",
    "    ngram_range=(1, 2),\n",
    "    min_df=2,\n",
    "    max_df=0.95,\n",
    "    max_features=150_000,\n",
    "    sublinear_tf=True\n",
    ")\n"
   ]
  },
  {
   "cell_type": "code",
   "execution_count": 12,
   "id": "eaacde81",
   "metadata": {
    "execution": {
     "iopub.execute_input": "2025-09-19T05:51:09.408370Z",
     "iopub.status.busy": "2025-09-19T05:51:09.407873Z",
     "iopub.status.idle": "2025-09-19T05:51:09.412040Z",
     "shell.execute_reply": "2025-09-19T05:51:09.411294Z"
    },
    "papermill": {
     "duration": 0.010298,
     "end_time": "2025-09-19T05:51:09.413215",
     "exception": false,
     "start_time": "2025-09-19T05:51:09.402917",
     "status": "completed"
    },
    "tags": []
   },
   "outputs": [],
   "source": [
    "\n",
    "char_tfidf = TfidfVectorizer(\n",
    "    lowercase=True,\n",
    "    strip_accents='unicode',\n",
    "    analyzer='char',\n",
    "    ngram_range=(3, 5),\n",
    "    min_df=2,\n",
    "    max_df=0.95,\n",
    "    max_features=100_000,\n",
    "    sublinear_tf=True\n",
    ")\n"
   ]
  },
  {
   "cell_type": "code",
   "execution_count": 13,
   "id": "7623d380",
   "metadata": {
    "execution": {
     "iopub.execute_input": "2025-09-19T05:51:09.422198Z",
     "iopub.status.busy": "2025-09-19T05:51:09.421936Z",
     "iopub.status.idle": "2025-09-19T05:51:09.425684Z",
     "shell.execute_reply": "2025-09-19T05:51:09.424931Z"
    },
    "papermill": {
     "duration": 0.009639,
     "end_time": "2025-09-19T05:51:09.426939",
     "exception": false,
     "start_time": "2025-09-19T05:51:09.417300",
     "status": "completed"
    },
    "tags": []
   },
   "outputs": [],
   "source": [
    "\n",
    "vectorizer = FeatureUnion([\n",
    "    ('word', word_tfidf),\n",
    "    ('char', char_tfidf),\n",
    "])\n"
   ]
  },
  {
   "cell_type": "code",
   "execution_count": 14,
   "id": "67e78524",
   "metadata": {
    "execution": {
     "iopub.execute_input": "2025-09-19T05:51:09.437025Z",
     "iopub.status.busy": "2025-09-19T05:51:09.436226Z",
     "iopub.status.idle": "2025-09-19T05:51:09.440586Z",
     "shell.execute_reply": "2025-09-19T05:51:09.439563Z"
    },
    "papermill": {
     "duration": 0.010782,
     "end_time": "2025-09-19T05:51:09.441952",
     "exception": false,
     "start_time": "2025-09-19T05:51:09.431170",
     "status": "completed"
    },
    "tags": []
   },
   "outputs": [],
   "source": [
    "model = LinearSVC(C=1.0)"
   ]
  },
  {
   "cell_type": "code",
   "execution_count": 15,
   "id": "29ff0291",
   "metadata": {
    "execution": {
     "iopub.execute_input": "2025-09-19T05:51:09.451756Z",
     "iopub.status.busy": "2025-09-19T05:51:09.451126Z",
     "iopub.status.idle": "2025-09-19T05:51:20.350458Z",
     "shell.execute_reply": "2025-09-19T05:51:20.349480Z"
    },
    "papermill": {
     "duration": 10.905553,
     "end_time": "2025-09-19T05:51:20.351825",
     "exception": false,
     "start_time": "2025-09-19T05:51:09.446272",
     "status": "completed"
    },
    "tags": []
   },
   "outputs": [
    {
     "name": "stdout",
     "output_type": "stream",
     "text": [
      "[Info] Using labels file: /kaggle/input/fake-or-real-the-impostor-hunt/data/train.csv\n",
      "[Info] Train rows: 190 (should be ~ 2 * number of articles)\n",
      "[Info] Test rows:  2136 (should be ~ 2 * number of test articles)\n",
      "   id  file_id                                               text  label\n",
      "0   0        1  The VIRSA (Visible Infrared Survey Telescope A...      1\n",
      "1   0        2  The China relay network has released a signifi...      0\n",
      "2   1        1  China\\nThe goal of this project involves achie...      0\n",
      "3   1        2  The project aims to achieve an accuracy level ...      1\n",
      "4   2        1  Scientists can learn about how galaxies form a...      1\n",
      "   id  file_id                                               text\n",
      "0   0        1  \"Music\" Music music music Music music Music mu...\n",
      "1   0        2  Since its launch on Paranal observatory's Very...\n",
      "2   1        1  underground exploration on SN's birth has prov...\n",
      "3   1        2  SN 1987A provides valuable insights as newer o...\n",
      "4   2        1  This research aimed to understand how star sha...\n"
     ]
    }
   ],
   "source": [
    "\n",
    "labels_df = find_labels_csv(DATA_ROOT)\n",
    "train_df = build_training_df(TRAIN_DIR, labels_df)\n",
    "test_df  = load_articles_as_rows(TEST_DIR)\n",
    "\n",
    "print(f\"[Info] Train rows: {len(train_df)} (should be ~ 2 * number of articles)\")\n",
    "print(f\"[Info] Test rows:  {len(test_df)} (should be ~ 2 * number of test articles)\")\n",
    "print(train_df.head())\n",
    "print(test_df.head())\n"
   ]
  },
  {
   "cell_type": "code",
   "execution_count": 16,
   "id": "897c0566",
   "metadata": {
    "execution": {
     "iopub.execute_input": "2025-09-19T05:51:20.361902Z",
     "iopub.status.busy": "2025-09-19T05:51:20.361620Z",
     "iopub.status.idle": "2025-09-19T05:51:20.365682Z",
     "shell.execute_reply": "2025-09-19T05:51:20.365054Z"
    },
    "papermill": {
     "duration": 0.01037,
     "end_time": "2025-09-19T05:51:20.366841",
     "exception": false,
     "start_time": "2025-09-19T05:51:20.356471",
     "status": "completed"
    },
    "tags": []
   },
   "outputs": [],
   "source": [
    "\n",
    "X_text = train_df['text'].values\n",
    "y = train_df['label'].values\n",
    "groups = train_df['id'].values\n"
   ]
  },
  {
   "cell_type": "code",
   "execution_count": 17,
   "id": "83207bd0",
   "metadata": {
    "execution": {
     "iopub.execute_input": "2025-09-19T05:51:20.376594Z",
     "iopub.status.busy": "2025-09-19T05:51:20.376330Z",
     "iopub.status.idle": "2025-09-19T05:51:20.380279Z",
     "shell.execute_reply": "2025-09-19T05:51:20.379559Z"
    },
    "papermill": {
     "duration": 0.010242,
     "end_time": "2025-09-19T05:51:20.381581",
     "exception": false,
     "start_time": "2025-09-19T05:51:20.371339",
     "status": "completed"
    },
    "tags": []
   },
   "outputs": [],
   "source": [
    "\n",
    "gkf = GroupKFold(n_splits=5)\n",
    "fold_accs = []\n"
   ]
  },
  {
   "cell_type": "code",
   "execution_count": 18,
   "id": "babce4a0",
   "metadata": {
    "execution": {
     "iopub.execute_input": "2025-09-19T05:51:20.391442Z",
     "iopub.status.busy": "2025-09-19T05:51:20.391167Z",
     "iopub.status.idle": "2025-09-19T05:51:29.357544Z",
     "shell.execute_reply": "2025-09-19T05:51:29.356563Z"
    },
    "papermill": {
     "duration": 8.972899,
     "end_time": "2025-09-19T05:51:29.358865",
     "exception": false,
     "start_time": "2025-09-19T05:51:20.385966",
     "status": "completed"
    },
    "tags": []
   },
   "outputs": [
    {
     "name": "stdout",
     "output_type": "stream",
     "text": [
      "\n",
      "[CV] Starting 5-fold GroupKFold (grouped by article id)...\n",
      "[CV] Fold 1: Pairwise accuracy = 0.8947\n",
      "[CV] Fold 2: Pairwise accuracy = 0.9474\n",
      "[CV] Fold 3: Pairwise accuracy = 1.0000\n",
      "[CV] Fold 4: Pairwise accuracy = 0.8947\n",
      "[CV] Fold 5: Pairwise accuracy = 0.9474\n",
      "[CV] Mean Pairwise Accuracy: 0.9368 ± 0.0394\n"
     ]
    }
   ],
   "source": [
    "\n",
    "print(\"\\n[CV] Starting 5-fold GroupKFold (grouped by article id)...\")\n",
    "for fold, (tr_idx, va_idx) in enumerate(gkf.split(X_text, y, groups), 1):\n",
    "    X_tr, y_tr = X_text[tr_idx], y[tr_idx]\n",
    "    X_va = X_text[va_idx]\n",
    "\n",
    "    # Fit vectorizer on train fold only\n",
    "    X_tr_vec = vectorizer.fit_transform(X_tr)\n",
    "    clf = model.fit(X_tr_vec, y_tr)\n",
    "\n",
    "    # Scores on validation (decision_function is fine to compare)\n",
    "    X_va_vec = vectorizer.transform(X_va)\n",
    "    scores = clf.decision_function(X_va_vec)\n",
    "\n",
    "    # Build a scoring DF with real labels for pairwise evaluation\n",
    "    fold_df = train_df.iloc[va_idx].copy()\n",
    "    fold_df['score'] = scores\n",
    "    # attach real_text_id for pairwise accuracy\n",
    "    fold_df = fold_df.merge(labels_df[['id','real_text_id']], on='id', how='left')\n",
    "\n",
    "    acc = pairwise_accuracy_from_scores(fold_df[['id','file_id','score','real_text_id']])\n",
    "    fold_accs.append(acc)\n",
    "    print(f\"[CV] Fold {fold}: Pairwise accuracy = {acc:.4f}\")\n",
    "\n",
    "print(f\"[CV] Mean Pairwise Accuracy: {np.mean(fold_accs):.4f} ± {np.std(fold_accs):.4f}\")\n"
   ]
  },
  {
   "cell_type": "code",
   "execution_count": 19,
   "id": "50f87afe",
   "metadata": {
    "execution": {
     "iopub.execute_input": "2025-09-19T05:51:29.369640Z",
     "iopub.status.busy": "2025-09-19T05:51:29.369362Z",
     "iopub.status.idle": "2025-09-19T05:51:31.237774Z",
     "shell.execute_reply": "2025-09-19T05:51:31.237056Z"
    },
    "papermill": {
     "duration": 1.875479,
     "end_time": "2025-09-19T05:51:31.239371",
     "exception": false,
     "start_time": "2025-09-19T05:51:29.363892",
     "status": "completed"
    },
    "tags": []
   },
   "outputs": [
    {
     "name": "stdout",
     "output_type": "stream",
     "text": [
      "\n",
      "[Train] Fitting on full training data...\n"
     ]
    }
   ],
   "source": [
    "\n",
    "print(\"\\n[Train] Fitting on full training data...\")\n",
    "X_vec_full = vectorizer.fit_transform(train_df['text'].values)\n",
    "clf_full = model.fit(X_vec_full, train_df['label'].values)\n"
   ]
  },
  {
   "cell_type": "code",
   "execution_count": 20,
   "id": "a6de9b91",
   "metadata": {
    "execution": {
     "iopub.execute_input": "2025-09-19T05:51:31.250528Z",
     "iopub.status.busy": "2025-09-19T05:51:31.250252Z",
     "iopub.status.idle": "2025-09-19T05:51:42.198981Z",
     "shell.execute_reply": "2025-09-19T05:51:42.198231Z"
    },
    "papermill": {
     "duration": 10.955983,
     "end_time": "2025-09-19T05:51:42.200569",
     "exception": false,
     "start_time": "2025-09-19T05:51:31.244586",
     "status": "completed"
    },
    "tags": []
   },
   "outputs": [
    {
     "name": "stdout",
     "output_type": "stream",
     "text": [
      "[Predict] Scoring test texts...\n"
     ]
    }
   ],
   "source": [
    "\n",
    "print(\"[Predict] Scoring test texts...\")\n",
    "X_test_vec = vectorizer.transform(test_df['text'].values)\n",
    "test_scores = clf_full.decision_function(X_test_vec)\n",
    "\n",
    "test_df_scored = test_df.copy()\n",
    "test_df_scored['score'] = test_scores\n"
   ]
  },
  {
   "cell_type": "code",
   "execution_count": 21,
   "id": "a8d41d08",
   "metadata": {
    "execution": {
     "iopub.execute_input": "2025-09-19T05:51:42.212263Z",
     "iopub.status.busy": "2025-09-19T05:51:42.211522Z",
     "iopub.status.idle": "2025-09-19T05:51:42.222885Z",
     "shell.execute_reply": "2025-09-19T05:51:42.222248Z"
    },
    "papermill": {
     "duration": 0.018438,
     "end_time": "2025-09-19T05:51:42.224340",
     "exception": false,
     "start_time": "2025-09-19T05:51:42.205902",
     "status": "completed"
    },
    "tags": []
   },
   "outputs": [],
   "source": [
    "\n",
    "chosen = test_df_scored.sort_values(by=['id','score'], ascending=[True, False]).groupby('id', as_index=False).first()\n"
   ]
  },
  {
   "cell_type": "code",
   "execution_count": 22,
   "id": "49a94d16",
   "metadata": {
    "execution": {
     "iopub.execute_input": "2025-09-19T05:51:42.236615Z",
     "iopub.status.busy": "2025-09-19T05:51:42.235973Z",
     "iopub.status.idle": "2025-09-19T05:51:42.250276Z",
     "shell.execute_reply": "2025-09-19T05:51:42.249333Z"
    },
    "papermill": {
     "duration": 0.022404,
     "end_time": "2025-09-19T05:51:42.251678",
     "exception": false,
     "start_time": "2025-09-19T05:51:42.229274",
     "status": "completed"
    },
    "tags": []
   },
   "outputs": [
    {
     "name": "stdout",
     "output_type": "stream",
     "text": [
      "[Done] Submission saved to: /kaggle/working/submission.csv\n",
      "   id  real_text_id\n",
      "0   0             2\n",
      "1   1             2\n",
      "2   2             1\n",
      "3   3             1\n",
      "4   4             2\n",
      "5   5             1\n",
      "6   6             2\n",
      "7   7             1\n",
      "8   8             2\n",
      "9   9             1\n"
     ]
    }
   ],
   "source": [
    "\n",
    "submission = chosen[['id','file_id']].rename(columns={'file_id':'real_text_id'}).sort_values('id')\n",
    "submission.to_csv(OUTPUT_PATH, index=False)\n",
    "print(f\"[Done] Submission saved to: {OUTPUT_PATH}\")\n",
    "print(submission.head(10))\n"
   ]
  },
  {
   "cell_type": "code",
   "execution_count": 23,
   "id": "5ea827eb",
   "metadata": {
    "execution": {
     "iopub.execute_input": "2025-09-19T05:51:42.262524Z",
     "iopub.status.busy": "2025-09-19T05:51:42.262251Z",
     "iopub.status.idle": "2025-09-19T05:51:42.283531Z",
     "shell.execute_reply": "2025-09-19T05:51:42.282717Z"
    },
    "papermill": {
     "duration": 0.028167,
     "end_time": "2025-09-19T05:51:42.284878",
     "exception": false,
     "start_time": "2025-09-19T05:51:42.256711",
     "status": "completed"
    },
    "tags": []
   },
   "outputs": [
    {
     "data": {
      "text/html": [
       "<div>\n",
       "<style scoped>\n",
       "    .dataframe tbody tr th:only-of-type {\n",
       "        vertical-align: middle;\n",
       "    }\n",
       "\n",
       "    .dataframe tbody tr th {\n",
       "        vertical-align: top;\n",
       "    }\n",
       "\n",
       "    .dataframe thead th {\n",
       "        text-align: right;\n",
       "    }\n",
       "</style>\n",
       "<table border=\"1\" class=\"dataframe\">\n",
       "  <thead>\n",
       "    <tr style=\"text-align: right;\">\n",
       "      <th></th>\n",
       "      <th>id</th>\n",
       "      <th>real_text_id</th>\n",
       "    </tr>\n",
       "  </thead>\n",
       "  <tbody>\n",
       "    <tr>\n",
       "      <th>count</th>\n",
       "      <td>1068.000000</td>\n",
       "      <td>1068.000000</td>\n",
       "    </tr>\n",
       "    <tr>\n",
       "      <th>mean</th>\n",
       "      <td>533.500000</td>\n",
       "      <td>1.482210</td>\n",
       "    </tr>\n",
       "    <tr>\n",
       "      <th>std</th>\n",
       "      <td>308.449348</td>\n",
       "      <td>0.499918</td>\n",
       "    </tr>\n",
       "    <tr>\n",
       "      <th>min</th>\n",
       "      <td>0.000000</td>\n",
       "      <td>1.000000</td>\n",
       "    </tr>\n",
       "    <tr>\n",
       "      <th>25%</th>\n",
       "      <td>266.750000</td>\n",
       "      <td>1.000000</td>\n",
       "    </tr>\n",
       "    <tr>\n",
       "      <th>50%</th>\n",
       "      <td>533.500000</td>\n",
       "      <td>1.000000</td>\n",
       "    </tr>\n",
       "    <tr>\n",
       "      <th>75%</th>\n",
       "      <td>800.250000</td>\n",
       "      <td>2.000000</td>\n",
       "    </tr>\n",
       "    <tr>\n",
       "      <th>max</th>\n",
       "      <td>1067.000000</td>\n",
       "      <td>2.000000</td>\n",
       "    </tr>\n",
       "  </tbody>\n",
       "</table>\n",
       "</div>"
      ],
      "text/plain": [
       "                id  real_text_id\n",
       "count  1068.000000   1068.000000\n",
       "mean    533.500000      1.482210\n",
       "std     308.449348      0.499918\n",
       "min       0.000000      1.000000\n",
       "25%     266.750000      1.000000\n",
       "50%     533.500000      1.000000\n",
       "75%     800.250000      2.000000\n",
       "max    1067.000000      2.000000"
      ]
     },
     "execution_count": 23,
     "metadata": {},
     "output_type": "execute_result"
    }
   ],
   "source": [
    "submission.describe()"
   ]
  },
  {
   "cell_type": "code",
   "execution_count": null,
   "id": "aa237302",
   "metadata": {
    "papermill": {
     "duration": 0.004621,
     "end_time": "2025-09-19T05:51:42.294554",
     "exception": false,
     "start_time": "2025-09-19T05:51:42.289933",
     "status": "completed"
    },
    "tags": []
   },
   "outputs": [],
   "source": []
  }
 ],
 "metadata": {
  "kaggle": {
   "accelerator": "none",
   "dataSources": [
    {
     "databundleVersionId": 12964783,
     "sourceId": 105874,
     "sourceType": "competition"
    }
   ],
   "dockerImageVersionId": 31089,
   "isGpuEnabled": false,
   "isInternetEnabled": true,
   "language": "python",
   "sourceType": "notebook"
  },
  "kernelspec": {
   "display_name": "Python 3",
   "language": "python",
   "name": "python3"
  },
  "language_info": {
   "codemirror_mode": {
    "name": "ipython",
    "version": 3
   },
   "file_extension": ".py",
   "mimetype": "text/x-python",
   "name": "python",
   "nbconvert_exporter": "python",
   "pygments_lexer": "ipython3",
   "version": "3.11.13"
  },
  "papermill": {
   "default_parameters": {},
   "duration": 42.00321,
   "end_time": "2025-09-19T05:51:42.918463",
   "environment_variables": {},
   "exception": null,
   "input_path": "__notebook__.ipynb",
   "output_path": "__notebook__.ipynb",
   "parameters": {},
   "start_time": "2025-09-19T05:51:00.915253",
   "version": "2.6.0"
  }
 },
 "nbformat": 4,
 "nbformat_minor": 5
}
